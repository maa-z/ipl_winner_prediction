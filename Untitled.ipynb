{
 "cells": [
  {
   "cell_type": "code",
   "execution_count": 117,
   "id": "eb9110c2",
   "metadata": {},
   "outputs": [],
   "source": [
    "import numpy as np\n",
    "import pandas as pd"
   ]
  },
  {
   "cell_type": "code",
   "execution_count": 118,
   "id": "ca55ec63",
   "metadata": {},
   "outputs": [],
   "source": [
    "df = pd.read_csv(\"IPL_Matches_Result_2008_2022.csv\")"
   ]
  },
  {
   "cell_type": "code",
   "execution_count": 119,
   "id": "52ae333a",
   "metadata": {},
   "outputs": [
    {
     "data": {
      "text/html": [
       "<div>\n",
       "<style scoped>\n",
       "    .dataframe tbody tr th:only-of-type {\n",
       "        vertical-align: middle;\n",
       "    }\n",
       "\n",
       "    .dataframe tbody tr th {\n",
       "        vertical-align: top;\n",
       "    }\n",
       "\n",
       "    .dataframe thead th {\n",
       "        text-align: right;\n",
       "    }\n",
       "</style>\n",
       "<table border=\"1\" class=\"dataframe\">\n",
       "  <thead>\n",
       "    <tr style=\"text-align: right;\">\n",
       "      <th></th>\n",
       "      <th>ID</th>\n",
       "      <th>City</th>\n",
       "      <th>Date</th>\n",
       "      <th>Season</th>\n",
       "      <th>MatchNumber</th>\n",
       "      <th>Team1</th>\n",
       "      <th>Team2</th>\n",
       "      <th>Venue</th>\n",
       "      <th>TossWinner</th>\n",
       "      <th>TossDecision</th>\n",
       "      <th>SuperOver</th>\n",
       "      <th>WinningTeam</th>\n",
       "      <th>WonBy</th>\n",
       "      <th>Margin</th>\n",
       "      <th>method</th>\n",
       "      <th>Player_of_Match</th>\n",
       "      <th>Team1Players</th>\n",
       "      <th>Team2Players</th>\n",
       "      <th>Umpire1</th>\n",
       "      <th>Umpire2</th>\n",
       "    </tr>\n",
       "  </thead>\n",
       "  <tbody>\n",
       "    <tr>\n",
       "      <th>0</th>\n",
       "      <td>1312200</td>\n",
       "      <td>Ahmedabad</td>\n",
       "      <td>2022-05-29</td>\n",
       "      <td>2022</td>\n",
       "      <td>Final</td>\n",
       "      <td>Rajasthan Royals</td>\n",
       "      <td>Gujarat Titans</td>\n",
       "      <td>Narendra Modi Stadium, Ahmedabad</td>\n",
       "      <td>Rajasthan Royals</td>\n",
       "      <td>bat</td>\n",
       "      <td>N</td>\n",
       "      <td>Gujarat Titans</td>\n",
       "      <td>Wickets</td>\n",
       "      <td>7.0</td>\n",
       "      <td>NaN</td>\n",
       "      <td>HH Pandya</td>\n",
       "      <td>['YBK Jaiswal', 'JC Buttler', 'SV Samson', 'D ...</td>\n",
       "      <td>['WP Saha', 'Shubman Gill', 'MS Wade', 'HH Pan...</td>\n",
       "      <td>CB Gaffaney</td>\n",
       "      <td>Nitin Menon</td>\n",
       "    </tr>\n",
       "    <tr>\n",
       "      <th>1</th>\n",
       "      <td>1312199</td>\n",
       "      <td>Ahmedabad</td>\n",
       "      <td>2022-05-27</td>\n",
       "      <td>2022</td>\n",
       "      <td>Qualifier 2</td>\n",
       "      <td>Royal Challengers Bangalore</td>\n",
       "      <td>Rajasthan Royals</td>\n",
       "      <td>Narendra Modi Stadium, Ahmedabad</td>\n",
       "      <td>Rajasthan Royals</td>\n",
       "      <td>field</td>\n",
       "      <td>N</td>\n",
       "      <td>Rajasthan Royals</td>\n",
       "      <td>Wickets</td>\n",
       "      <td>7.0</td>\n",
       "      <td>NaN</td>\n",
       "      <td>JC Buttler</td>\n",
       "      <td>['V Kohli', 'F du Plessis', 'RM Patidar', 'GJ ...</td>\n",
       "      <td>['YBK Jaiswal', 'JC Buttler', 'SV Samson', 'D ...</td>\n",
       "      <td>CB Gaffaney</td>\n",
       "      <td>Nitin Menon</td>\n",
       "    </tr>\n",
       "    <tr>\n",
       "      <th>2</th>\n",
       "      <td>1312198</td>\n",
       "      <td>Kolkata</td>\n",
       "      <td>2022-05-25</td>\n",
       "      <td>2022</td>\n",
       "      <td>Eliminator</td>\n",
       "      <td>Royal Challengers Bangalore</td>\n",
       "      <td>Lucknow Super Giants</td>\n",
       "      <td>Eden Gardens, Kolkata</td>\n",
       "      <td>Lucknow Super Giants</td>\n",
       "      <td>field</td>\n",
       "      <td>N</td>\n",
       "      <td>Royal Challengers Bangalore</td>\n",
       "      <td>Runs</td>\n",
       "      <td>14.0</td>\n",
       "      <td>NaN</td>\n",
       "      <td>RM Patidar</td>\n",
       "      <td>['V Kohli', 'F du Plessis', 'RM Patidar', 'GJ ...</td>\n",
       "      <td>['Q de Kock', 'KL Rahul', 'M Vohra', 'DJ Hooda...</td>\n",
       "      <td>J Madanagopal</td>\n",
       "      <td>MA Gough</td>\n",
       "    </tr>\n",
       "    <tr>\n",
       "      <th>3</th>\n",
       "      <td>1312197</td>\n",
       "      <td>Kolkata</td>\n",
       "      <td>2022-05-24</td>\n",
       "      <td>2022</td>\n",
       "      <td>Qualifier 1</td>\n",
       "      <td>Rajasthan Royals</td>\n",
       "      <td>Gujarat Titans</td>\n",
       "      <td>Eden Gardens, Kolkata</td>\n",
       "      <td>Gujarat Titans</td>\n",
       "      <td>field</td>\n",
       "      <td>N</td>\n",
       "      <td>Gujarat Titans</td>\n",
       "      <td>Wickets</td>\n",
       "      <td>7.0</td>\n",
       "      <td>NaN</td>\n",
       "      <td>DA Miller</td>\n",
       "      <td>['YBK Jaiswal', 'JC Buttler', 'SV Samson', 'D ...</td>\n",
       "      <td>['WP Saha', 'Shubman Gill', 'MS Wade', 'HH Pan...</td>\n",
       "      <td>BNJ Oxenford</td>\n",
       "      <td>VK Sharma</td>\n",
       "    </tr>\n",
       "    <tr>\n",
       "      <th>4</th>\n",
       "      <td>1304116</td>\n",
       "      <td>Mumbai</td>\n",
       "      <td>2022-05-22</td>\n",
       "      <td>2022</td>\n",
       "      <td>70</td>\n",
       "      <td>Sunrisers Hyderabad</td>\n",
       "      <td>Punjab Kings</td>\n",
       "      <td>Wankhede Stadium, Mumbai</td>\n",
       "      <td>Sunrisers Hyderabad</td>\n",
       "      <td>bat</td>\n",
       "      <td>N</td>\n",
       "      <td>Punjab Kings</td>\n",
       "      <td>Wickets</td>\n",
       "      <td>5.0</td>\n",
       "      <td>NaN</td>\n",
       "      <td>Harpreet Brar</td>\n",
       "      <td>['PK Garg', 'Abhishek Sharma', 'RA Tripathi', ...</td>\n",
       "      <td>['JM Bairstow', 'S Dhawan', 'M Shahrukh Khan',...</td>\n",
       "      <td>AK Chaudhary</td>\n",
       "      <td>NA Patwardhan</td>\n",
       "    </tr>\n",
       "  </tbody>\n",
       "</table>\n",
       "</div>"
      ],
      "text/plain": [
       "        ID       City        Date Season  MatchNumber  \\\n",
       "0  1312200  Ahmedabad  2022-05-29   2022        Final   \n",
       "1  1312199  Ahmedabad  2022-05-27   2022  Qualifier 2   \n",
       "2  1312198    Kolkata  2022-05-25   2022   Eliminator   \n",
       "3  1312197    Kolkata  2022-05-24   2022  Qualifier 1   \n",
       "4  1304116     Mumbai  2022-05-22   2022           70   \n",
       "\n",
       "                         Team1                 Team2  \\\n",
       "0             Rajasthan Royals        Gujarat Titans   \n",
       "1  Royal Challengers Bangalore      Rajasthan Royals   \n",
       "2  Royal Challengers Bangalore  Lucknow Super Giants   \n",
       "3             Rajasthan Royals        Gujarat Titans   \n",
       "4          Sunrisers Hyderabad          Punjab Kings   \n",
       "\n",
       "                              Venue            TossWinner TossDecision  \\\n",
       "0  Narendra Modi Stadium, Ahmedabad      Rajasthan Royals          bat   \n",
       "1  Narendra Modi Stadium, Ahmedabad      Rajasthan Royals        field   \n",
       "2             Eden Gardens, Kolkata  Lucknow Super Giants        field   \n",
       "3             Eden Gardens, Kolkata        Gujarat Titans        field   \n",
       "4          Wankhede Stadium, Mumbai   Sunrisers Hyderabad          bat   \n",
       "\n",
       "  SuperOver                  WinningTeam    WonBy  Margin method  \\\n",
       "0         N               Gujarat Titans  Wickets     7.0    NaN   \n",
       "1         N             Rajasthan Royals  Wickets     7.0    NaN   \n",
       "2         N  Royal Challengers Bangalore     Runs    14.0    NaN   \n",
       "3         N               Gujarat Titans  Wickets     7.0    NaN   \n",
       "4         N                 Punjab Kings  Wickets     5.0    NaN   \n",
       "\n",
       "  Player_of_Match                                       Team1Players  \\\n",
       "0       HH Pandya  ['YBK Jaiswal', 'JC Buttler', 'SV Samson', 'D ...   \n",
       "1      JC Buttler  ['V Kohli', 'F du Plessis', 'RM Patidar', 'GJ ...   \n",
       "2      RM Patidar  ['V Kohli', 'F du Plessis', 'RM Patidar', 'GJ ...   \n",
       "3       DA Miller  ['YBK Jaiswal', 'JC Buttler', 'SV Samson', 'D ...   \n",
       "4   Harpreet Brar  ['PK Garg', 'Abhishek Sharma', 'RA Tripathi', ...   \n",
       "\n",
       "                                        Team2Players        Umpire1  \\\n",
       "0  ['WP Saha', 'Shubman Gill', 'MS Wade', 'HH Pan...    CB Gaffaney   \n",
       "1  ['YBK Jaiswal', 'JC Buttler', 'SV Samson', 'D ...    CB Gaffaney   \n",
       "2  ['Q de Kock', 'KL Rahul', 'M Vohra', 'DJ Hooda...  J Madanagopal   \n",
       "3  ['WP Saha', 'Shubman Gill', 'MS Wade', 'HH Pan...   BNJ Oxenford   \n",
       "4  ['JM Bairstow', 'S Dhawan', 'M Shahrukh Khan',...   AK Chaudhary   \n",
       "\n",
       "         Umpire2  \n",
       "0    Nitin Menon  \n",
       "1    Nitin Menon  \n",
       "2       MA Gough  \n",
       "3      VK Sharma  \n",
       "4  NA Patwardhan  "
      ]
     },
     "execution_count": 119,
     "metadata": {},
     "output_type": "execute_result"
    }
   ],
   "source": [
    "df.head()"
   ]
  },
  {
   "cell_type": "code",
   "execution_count": 120,
   "id": "883039e2",
   "metadata": {},
   "outputs": [],
   "source": [
    "df = df[['City','MatchNumber','Team1','Team2','Venue','TossWinner','TossDecision','WinningTeam']]"
   ]
  },
  {
   "cell_type": "code",
   "execution_count": 121,
   "id": "54258106",
   "metadata": {},
   "outputs": [
    {
     "data": {
      "text/html": [
       "<div>\n",
       "<style scoped>\n",
       "    .dataframe tbody tr th:only-of-type {\n",
       "        vertical-align: middle;\n",
       "    }\n",
       "\n",
       "    .dataframe tbody tr th {\n",
       "        vertical-align: top;\n",
       "    }\n",
       "\n",
       "    .dataframe thead th {\n",
       "        text-align: right;\n",
       "    }\n",
       "</style>\n",
       "<table border=\"1\" class=\"dataframe\">\n",
       "  <thead>\n",
       "    <tr style=\"text-align: right;\">\n",
       "      <th></th>\n",
       "      <th>City</th>\n",
       "      <th>MatchNumber</th>\n",
       "      <th>Team1</th>\n",
       "      <th>Team2</th>\n",
       "      <th>Venue</th>\n",
       "      <th>TossWinner</th>\n",
       "      <th>TossDecision</th>\n",
       "      <th>WinningTeam</th>\n",
       "    </tr>\n",
       "  </thead>\n",
       "  <tbody>\n",
       "    <tr>\n",
       "      <th>0</th>\n",
       "      <td>Ahmedabad</td>\n",
       "      <td>Final</td>\n",
       "      <td>Rajasthan Royals</td>\n",
       "      <td>Gujarat Titans</td>\n",
       "      <td>Narendra Modi Stadium, Ahmedabad</td>\n",
       "      <td>Rajasthan Royals</td>\n",
       "      <td>bat</td>\n",
       "      <td>Gujarat Titans</td>\n",
       "    </tr>\n",
       "    <tr>\n",
       "      <th>1</th>\n",
       "      <td>Ahmedabad</td>\n",
       "      <td>Qualifier 2</td>\n",
       "      <td>Royal Challengers Bangalore</td>\n",
       "      <td>Rajasthan Royals</td>\n",
       "      <td>Narendra Modi Stadium, Ahmedabad</td>\n",
       "      <td>Rajasthan Royals</td>\n",
       "      <td>field</td>\n",
       "      <td>Rajasthan Royals</td>\n",
       "    </tr>\n",
       "    <tr>\n",
       "      <th>2</th>\n",
       "      <td>Kolkata</td>\n",
       "      <td>Eliminator</td>\n",
       "      <td>Royal Challengers Bangalore</td>\n",
       "      <td>Lucknow Super Giants</td>\n",
       "      <td>Eden Gardens, Kolkata</td>\n",
       "      <td>Lucknow Super Giants</td>\n",
       "      <td>field</td>\n",
       "      <td>Royal Challengers Bangalore</td>\n",
       "    </tr>\n",
       "    <tr>\n",
       "      <th>3</th>\n",
       "      <td>Kolkata</td>\n",
       "      <td>Qualifier 1</td>\n",
       "      <td>Rajasthan Royals</td>\n",
       "      <td>Gujarat Titans</td>\n",
       "      <td>Eden Gardens, Kolkata</td>\n",
       "      <td>Gujarat Titans</td>\n",
       "      <td>field</td>\n",
       "      <td>Gujarat Titans</td>\n",
       "    </tr>\n",
       "    <tr>\n",
       "      <th>4</th>\n",
       "      <td>Mumbai</td>\n",
       "      <td>70</td>\n",
       "      <td>Sunrisers Hyderabad</td>\n",
       "      <td>Punjab Kings</td>\n",
       "      <td>Wankhede Stadium, Mumbai</td>\n",
       "      <td>Sunrisers Hyderabad</td>\n",
       "      <td>bat</td>\n",
       "      <td>Punjab Kings</td>\n",
       "    </tr>\n",
       "  </tbody>\n",
       "</table>\n",
       "</div>"
      ],
      "text/plain": [
       "        City  MatchNumber                        Team1                 Team2  \\\n",
       "0  Ahmedabad        Final             Rajasthan Royals        Gujarat Titans   \n",
       "1  Ahmedabad  Qualifier 2  Royal Challengers Bangalore      Rajasthan Royals   \n",
       "2    Kolkata   Eliminator  Royal Challengers Bangalore  Lucknow Super Giants   \n",
       "3    Kolkata  Qualifier 1             Rajasthan Royals        Gujarat Titans   \n",
       "4     Mumbai           70          Sunrisers Hyderabad          Punjab Kings   \n",
       "\n",
       "                              Venue            TossWinner TossDecision  \\\n",
       "0  Narendra Modi Stadium, Ahmedabad      Rajasthan Royals          bat   \n",
       "1  Narendra Modi Stadium, Ahmedabad      Rajasthan Royals        field   \n",
       "2             Eden Gardens, Kolkata  Lucknow Super Giants        field   \n",
       "3             Eden Gardens, Kolkata        Gujarat Titans        field   \n",
       "4          Wankhede Stadium, Mumbai   Sunrisers Hyderabad          bat   \n",
       "\n",
       "                   WinningTeam  \n",
       "0               Gujarat Titans  \n",
       "1             Rajasthan Royals  \n",
       "2  Royal Challengers Bangalore  \n",
       "3               Gujarat Titans  \n",
       "4                 Punjab Kings  "
      ]
     },
     "execution_count": 121,
     "metadata": {},
     "output_type": "execute_result"
    }
   ],
   "source": [
    "df.head()"
   ]
  },
  {
   "cell_type": "code",
   "execution_count": 122,
   "id": "d59fe459",
   "metadata": {},
   "outputs": [
    {
     "data": {
      "text/plain": [
       "(8,)"
      ]
     },
     "execution_count": 122,
     "metadata": {},
     "output_type": "execute_result"
    }
   ],
   "source": [
    "df.columns.shape"
   ]
  },
  {
   "cell_type": "code",
   "execution_count": 123,
   "id": "0ff064ed",
   "metadata": {},
   "outputs": [
    {
     "data": {
      "text/plain": [
       "City            51\n",
       "MatchNumber      0\n",
       "Team1            0\n",
       "Team2            0\n",
       "Venue            0\n",
       "TossWinner       0\n",
       "TossDecision     0\n",
       "WinningTeam      4\n",
       "dtype: int64"
      ]
     },
     "execution_count": 123,
     "metadata": {},
     "output_type": "execute_result"
    }
   ],
   "source": [
    "df.isnull().sum()"
   ]
  },
  {
   "cell_type": "code",
   "execution_count": 124,
   "id": "6df7e0d1",
   "metadata": {},
   "outputs": [
    {
     "data": {
      "text/plain": [
       "array(['Ahmedabad', 'Kolkata', 'Mumbai', 'Navi Mumbai', 'Pune', 'Dubai',\n",
       "       'Sharjah', 'Abu Dhabi', 'Delhi', 'Chennai', nan, 'Hyderabad',\n",
       "       'Visakhapatnam', 'Chandigarh', 'Bengaluru', 'Jaipur', 'Indore',\n",
       "       'Bangalore', 'Kanpur', 'Rajkot', 'Raipur', 'Ranchi', 'Cuttack',\n",
       "       'Dharamsala', 'Kochi', 'Nagpur', 'Johannesburg', 'Centurion',\n",
       "       'Durban', 'Bloemfontein', 'Port Elizabeth', 'Kimberley',\n",
       "       'East London', 'Cape Town'], dtype=object)"
      ]
     },
     "execution_count": 124,
     "metadata": {},
     "output_type": "execute_result"
    }
   ],
   "source": [
    "df.City.unique()"
   ]
  },
  {
   "cell_type": "code",
   "execution_count": 125,
   "id": "3e2efe5d",
   "metadata": {},
   "outputs": [
    {
     "data": {
      "text/plain": [
       "(950, 8)"
      ]
     },
     "execution_count": 125,
     "metadata": {},
     "output_type": "execute_result"
    }
   ],
   "source": [
    "df.shape"
   ]
  },
  {
   "cell_type": "code",
   "execution_count": 126,
   "id": "dc4c8158",
   "metadata": {},
   "outputs": [
    {
     "data": {
      "text/plain": [
       "235       Hyderabad\n",
       "100       Abu Dhabi\n",
       "156             NaN\n",
       "842    Johannesburg\n",
       "10      Navi Mumbai\n",
       "273         Kolkata\n",
       "637      Dharamsala\n",
       "424          Mumbai\n",
       "59           Mumbai\n",
       "853       Centurion\n",
       "895      Chandigarh\n",
       "672          Jaipur\n",
       "320         Kolkata\n",
       "425       Hyderabad\n",
       "230          Mumbai\n",
       "474       Ahmedabad\n",
       "181       Abu Dhabi\n",
       "558       Bangalore\n",
       "780           Delhi\n",
       "179             NaN\n",
       "Name: City, dtype: object"
      ]
     },
     "execution_count": 126,
     "metadata": {},
     "output_type": "execute_result"
    }
   ],
   "source": [
    "df.City.sample(20)"
   ]
  },
  {
   "cell_type": "code",
   "execution_count": 127,
   "id": "dae7076d",
   "metadata": {},
   "outputs": [],
   "source": [
    "df.City = df.City.fillna(\"1-No Matter\")"
   ]
  },
  {
   "cell_type": "code",
   "execution_count": 128,
   "id": "acfa65e8",
   "metadata": {},
   "outputs": [
    {
     "data": {
      "text/plain": [
       "0"
      ]
     },
     "execution_count": 128,
     "metadata": {},
     "output_type": "execute_result"
    }
   ],
   "source": [
    "df.City.isnull().sum()"
   ]
  },
  {
   "cell_type": "code",
   "execution_count": 129,
   "id": "465b0c9f",
   "metadata": {},
   "outputs": [
    {
     "data": {
      "text/plain": [
       "City            0\n",
       "MatchNumber     0\n",
       "Team1           0\n",
       "Team2           0\n",
       "Venue           0\n",
       "TossWinner      0\n",
       "TossDecision    0\n",
       "WinningTeam     4\n",
       "dtype: int64"
      ]
     },
     "execution_count": 129,
     "metadata": {},
     "output_type": "execute_result"
    }
   ],
   "source": [
    "df.isnull().sum()"
   ]
  },
  {
   "cell_type": "code",
   "execution_count": 130,
   "id": "2b41722a",
   "metadata": {},
   "outputs": [],
   "source": [
    "df.dropna(inplace=True)"
   ]
  },
  {
   "cell_type": "code",
   "execution_count": 131,
   "id": "401a5830",
   "metadata": {},
   "outputs": [
    {
     "data": {
      "text/plain": [
       "City            0\n",
       "MatchNumber     0\n",
       "Team1           0\n",
       "Team2           0\n",
       "Venue           0\n",
       "TossWinner      0\n",
       "TossDecision    0\n",
       "WinningTeam     0\n",
       "dtype: int64"
      ]
     },
     "execution_count": 131,
     "metadata": {},
     "output_type": "execute_result"
    }
   ],
   "source": [
    "df.isnull().sum()"
   ]
  },
  {
   "cell_type": "code",
   "execution_count": 132,
   "id": "14d8d7ad",
   "metadata": {},
   "outputs": [
    {
     "data": {
      "text/plain": [
       "(946, 8)"
      ]
     },
     "execution_count": 132,
     "metadata": {},
     "output_type": "execute_result"
    }
   ],
   "source": [
    "df.shape"
   ]
  },
  {
   "cell_type": "code",
   "execution_count": 133,
   "id": "4fc9d6e9",
   "metadata": {},
   "outputs": [
    {
     "data": {
      "text/html": [
       "<div>\n",
       "<style scoped>\n",
       "    .dataframe tbody tr th:only-of-type {\n",
       "        vertical-align: middle;\n",
       "    }\n",
       "\n",
       "    .dataframe tbody tr th {\n",
       "        vertical-align: top;\n",
       "    }\n",
       "\n",
       "    .dataframe thead th {\n",
       "        text-align: right;\n",
       "    }\n",
       "</style>\n",
       "<table border=\"1\" class=\"dataframe\">\n",
       "  <thead>\n",
       "    <tr style=\"text-align: right;\">\n",
       "      <th></th>\n",
       "      <th>City</th>\n",
       "      <th>MatchNumber</th>\n",
       "      <th>Team1</th>\n",
       "      <th>Team2</th>\n",
       "      <th>Venue</th>\n",
       "      <th>TossWinner</th>\n",
       "      <th>TossDecision</th>\n",
       "      <th>WinningTeam</th>\n",
       "    </tr>\n",
       "  </thead>\n",
       "  <tbody>\n",
       "    <tr>\n",
       "      <th>0</th>\n",
       "      <td>Ahmedabad</td>\n",
       "      <td>Final</td>\n",
       "      <td>Rajasthan Royals</td>\n",
       "      <td>Gujarat Titans</td>\n",
       "      <td>Narendra Modi Stadium, Ahmedabad</td>\n",
       "      <td>Rajasthan Royals</td>\n",
       "      <td>bat</td>\n",
       "      <td>Gujarat Titans</td>\n",
       "    </tr>\n",
       "    <tr>\n",
       "      <th>1</th>\n",
       "      <td>Ahmedabad</td>\n",
       "      <td>Qualifier 2</td>\n",
       "      <td>Royal Challengers Bangalore</td>\n",
       "      <td>Rajasthan Royals</td>\n",
       "      <td>Narendra Modi Stadium, Ahmedabad</td>\n",
       "      <td>Rajasthan Royals</td>\n",
       "      <td>field</td>\n",
       "      <td>Rajasthan Royals</td>\n",
       "    </tr>\n",
       "    <tr>\n",
       "      <th>2</th>\n",
       "      <td>Kolkata</td>\n",
       "      <td>Eliminator</td>\n",
       "      <td>Royal Challengers Bangalore</td>\n",
       "      <td>Lucknow Super Giants</td>\n",
       "      <td>Eden Gardens, Kolkata</td>\n",
       "      <td>Lucknow Super Giants</td>\n",
       "      <td>field</td>\n",
       "      <td>Royal Challengers Bangalore</td>\n",
       "    </tr>\n",
       "    <tr>\n",
       "      <th>3</th>\n",
       "      <td>Kolkata</td>\n",
       "      <td>Qualifier 1</td>\n",
       "      <td>Rajasthan Royals</td>\n",
       "      <td>Gujarat Titans</td>\n",
       "      <td>Eden Gardens, Kolkata</td>\n",
       "      <td>Gujarat Titans</td>\n",
       "      <td>field</td>\n",
       "      <td>Gujarat Titans</td>\n",
       "    </tr>\n",
       "    <tr>\n",
       "      <th>4</th>\n",
       "      <td>Mumbai</td>\n",
       "      <td>70</td>\n",
       "      <td>Sunrisers Hyderabad</td>\n",
       "      <td>Punjab Kings</td>\n",
       "      <td>Wankhede Stadium, Mumbai</td>\n",
       "      <td>Sunrisers Hyderabad</td>\n",
       "      <td>bat</td>\n",
       "      <td>Punjab Kings</td>\n",
       "    </tr>\n",
       "  </tbody>\n",
       "</table>\n",
       "</div>"
      ],
      "text/plain": [
       "        City  MatchNumber                        Team1                 Team2  \\\n",
       "0  Ahmedabad        Final             Rajasthan Royals        Gujarat Titans   \n",
       "1  Ahmedabad  Qualifier 2  Royal Challengers Bangalore      Rajasthan Royals   \n",
       "2    Kolkata   Eliminator  Royal Challengers Bangalore  Lucknow Super Giants   \n",
       "3    Kolkata  Qualifier 1             Rajasthan Royals        Gujarat Titans   \n",
       "4     Mumbai           70          Sunrisers Hyderabad          Punjab Kings   \n",
       "\n",
       "                              Venue            TossWinner TossDecision  \\\n",
       "0  Narendra Modi Stadium, Ahmedabad      Rajasthan Royals          bat   \n",
       "1  Narendra Modi Stadium, Ahmedabad      Rajasthan Royals        field   \n",
       "2             Eden Gardens, Kolkata  Lucknow Super Giants        field   \n",
       "3             Eden Gardens, Kolkata        Gujarat Titans        field   \n",
       "4          Wankhede Stadium, Mumbai   Sunrisers Hyderabad          bat   \n",
       "\n",
       "                   WinningTeam  \n",
       "0               Gujarat Titans  \n",
       "1             Rajasthan Royals  \n",
       "2  Royal Challengers Bangalore  \n",
       "3               Gujarat Titans  \n",
       "4                 Punjab Kings  "
      ]
     },
     "execution_count": 133,
     "metadata": {},
     "output_type": "execute_result"
    }
   ],
   "source": [
    "df.head()"
   ]
  },
  {
   "cell_type": "code",
   "execution_count": 134,
   "id": "765aeac7",
   "metadata": {},
   "outputs": [],
   "source": [
    "df.City = df.City.apply(lambda x : x.strip())"
   ]
  },
  {
   "cell_type": "code",
   "execution_count": 135,
   "id": "645f36c1",
   "metadata": {},
   "outputs": [],
   "source": [
    "for serie in df.columns:\n",
    "    df[serie] = df[serie].apply(lambda x : x.strip())"
   ]
  },
  {
   "cell_type": "code",
   "execution_count": 136,
   "id": "9ef990fd",
   "metadata": {},
   "outputs": [
    {
     "data": {
      "text/html": [
       "<div>\n",
       "<style scoped>\n",
       "    .dataframe tbody tr th:only-of-type {\n",
       "        vertical-align: middle;\n",
       "    }\n",
       "\n",
       "    .dataframe tbody tr th {\n",
       "        vertical-align: top;\n",
       "    }\n",
       "\n",
       "    .dataframe thead th {\n",
       "        text-align: right;\n",
       "    }\n",
       "</style>\n",
       "<table border=\"1\" class=\"dataframe\">\n",
       "  <thead>\n",
       "    <tr style=\"text-align: right;\">\n",
       "      <th></th>\n",
       "      <th>City</th>\n",
       "      <th>MatchNumber</th>\n",
       "      <th>Team1</th>\n",
       "      <th>Team2</th>\n",
       "      <th>Venue</th>\n",
       "      <th>TossWinner</th>\n",
       "      <th>TossDecision</th>\n",
       "      <th>WinningTeam</th>\n",
       "    </tr>\n",
       "  </thead>\n",
       "  <tbody>\n",
       "    <tr>\n",
       "      <th>0</th>\n",
       "      <td>Ahmedabad</td>\n",
       "      <td>Final</td>\n",
       "      <td>Rajasthan Royals</td>\n",
       "      <td>Gujarat Titans</td>\n",
       "      <td>Narendra Modi Stadium, Ahmedabad</td>\n",
       "      <td>Rajasthan Royals</td>\n",
       "      <td>bat</td>\n",
       "      <td>Gujarat Titans</td>\n",
       "    </tr>\n",
       "    <tr>\n",
       "      <th>1</th>\n",
       "      <td>Ahmedabad</td>\n",
       "      <td>Qualifier 2</td>\n",
       "      <td>Royal Challengers Bangalore</td>\n",
       "      <td>Rajasthan Royals</td>\n",
       "      <td>Narendra Modi Stadium, Ahmedabad</td>\n",
       "      <td>Rajasthan Royals</td>\n",
       "      <td>field</td>\n",
       "      <td>Rajasthan Royals</td>\n",
       "    </tr>\n",
       "    <tr>\n",
       "      <th>2</th>\n",
       "      <td>Kolkata</td>\n",
       "      <td>Eliminator</td>\n",
       "      <td>Royal Challengers Bangalore</td>\n",
       "      <td>Lucknow Super Giants</td>\n",
       "      <td>Eden Gardens, Kolkata</td>\n",
       "      <td>Lucknow Super Giants</td>\n",
       "      <td>field</td>\n",
       "      <td>Royal Challengers Bangalore</td>\n",
       "    </tr>\n",
       "    <tr>\n",
       "      <th>3</th>\n",
       "      <td>Kolkata</td>\n",
       "      <td>Qualifier 1</td>\n",
       "      <td>Rajasthan Royals</td>\n",
       "      <td>Gujarat Titans</td>\n",
       "      <td>Eden Gardens, Kolkata</td>\n",
       "      <td>Gujarat Titans</td>\n",
       "      <td>field</td>\n",
       "      <td>Gujarat Titans</td>\n",
       "    </tr>\n",
       "    <tr>\n",
       "      <th>4</th>\n",
       "      <td>Mumbai</td>\n",
       "      <td>70</td>\n",
       "      <td>Sunrisers Hyderabad</td>\n",
       "      <td>Punjab Kings</td>\n",
       "      <td>Wankhede Stadium, Mumbai</td>\n",
       "      <td>Sunrisers Hyderabad</td>\n",
       "      <td>bat</td>\n",
       "      <td>Punjab Kings</td>\n",
       "    </tr>\n",
       "  </tbody>\n",
       "</table>\n",
       "</div>"
      ],
      "text/plain": [
       "        City  MatchNumber                        Team1                 Team2  \\\n",
       "0  Ahmedabad        Final             Rajasthan Royals        Gujarat Titans   \n",
       "1  Ahmedabad  Qualifier 2  Royal Challengers Bangalore      Rajasthan Royals   \n",
       "2    Kolkata   Eliminator  Royal Challengers Bangalore  Lucknow Super Giants   \n",
       "3    Kolkata  Qualifier 1             Rajasthan Royals        Gujarat Titans   \n",
       "4     Mumbai           70          Sunrisers Hyderabad          Punjab Kings   \n",
       "\n",
       "                              Venue            TossWinner TossDecision  \\\n",
       "0  Narendra Modi Stadium, Ahmedabad      Rajasthan Royals          bat   \n",
       "1  Narendra Modi Stadium, Ahmedabad      Rajasthan Royals        field   \n",
       "2             Eden Gardens, Kolkata  Lucknow Super Giants        field   \n",
       "3             Eden Gardens, Kolkata        Gujarat Titans        field   \n",
       "4          Wankhede Stadium, Mumbai   Sunrisers Hyderabad          bat   \n",
       "\n",
       "                   WinningTeam  \n",
       "0               Gujarat Titans  \n",
       "1             Rajasthan Royals  \n",
       "2  Royal Challengers Bangalore  \n",
       "3               Gujarat Titans  \n",
       "4                 Punjab Kings  "
      ]
     },
     "execution_count": 136,
     "metadata": {},
     "output_type": "execute_result"
    }
   ],
   "source": [
    "df.head()"
   ]
  },
  {
   "cell_type": "code",
   "execution_count": 137,
   "id": "8387c2ec",
   "metadata": {},
   "outputs": [
    {
     "data": {
      "text/plain": [
       "array(['Ahmedabad', 'Kolkata', 'Mumbai', 'Navi Mumbai', 'Pune', 'Dubai',\n",
       "       'Sharjah', 'Abu Dhabi', 'Delhi', 'Chennai', '1-No Matter',\n",
       "       'Hyderabad', 'Visakhapatnam', 'Chandigarh', 'Bengaluru', 'Jaipur',\n",
       "       'Indore', 'Bangalore', 'Kanpur', 'Rajkot', 'Raipur', 'Ranchi',\n",
       "       'Cuttack', 'Dharamsala', 'Kochi', 'Nagpur', 'Johannesburg',\n",
       "       'Centurion', 'Durban', 'Bloemfontein', 'Port Elizabeth',\n",
       "       'Kimberley', 'East London', 'Cape Town'], dtype=object)"
      ]
     },
     "execution_count": 137,
     "metadata": {},
     "output_type": "execute_result"
    }
   ],
   "source": [
    "df.City.unique()"
   ]
  },
  {
   "cell_type": "code",
   "execution_count": 138,
   "id": "ef22f898",
   "metadata": {},
   "outputs": [
    {
     "data": {
      "text/plain": [
       "array(['Final', 'Qualifier 2', 'Eliminator', 'Qualifier 1', '70', '69',\n",
       "       '68', '67', '66', '65', '64', '63', '62', '61', '60', '59', '58',\n",
       "       '57', '56', '55', '54', '53', '52', '51', '50', '49', '48', '47',\n",
       "       '46', '45', '44', '43', '42', '41', '40', '39', '38', '37', '36',\n",
       "       '35', '34', '33', '32', '31', '30', '29', '28', '27', '26', '25',\n",
       "       '24', '23', '22', '21', '20', '19', '18', '17', '16', '15', '14',\n",
       "       '13', '12', '11', '10', '9', '8', '7', '6', '5', '4', '3', '2',\n",
       "       '1', 'Qualifier', 'Elimination Final', '72', '71',\n",
       "       '3rd Place Play-Off', 'Semi Final'], dtype=object)"
      ]
     },
     "execution_count": 138,
     "metadata": {},
     "output_type": "execute_result"
    }
   ],
   "source": [
    "df.MatchNumber.unique()"
   ]
  },
  {
   "cell_type": "code",
   "execution_count": 139,
   "id": "2282c3d0",
   "metadata": {},
   "outputs": [],
   "source": [
    "def change_match(x):\n",
    "    try:\n",
    "        n = int(x)\n",
    "        return \"Normal\"\n",
    "    except:\n",
    "        l= x.split()\n",
    "        if len(l) < 3:\n",
    "            if l[0]==\"Eliminator\":\n",
    "                return \"Elimination\"\n",
    "            return l[0]\n",
    "        else:\n",
    "            return l[-1]\n",
    "\n",
    "\n",
    "df.MatchNumber = df.MatchNumber.apply(change_match)"
   ]
  },
  {
   "cell_type": "code",
   "execution_count": 140,
   "id": "cdb606cf",
   "metadata": {},
   "outputs": [
    {
     "data": {
      "text/plain": [
       "array(['Final', 'Qualifier', 'Elimination', 'Normal', 'Play-Off', 'Semi'],\n",
       "      dtype=object)"
      ]
     },
     "execution_count": 140,
     "metadata": {},
     "output_type": "execute_result"
    }
   ],
   "source": [
    "df.MatchNumber.unique()"
   ]
  },
  {
   "cell_type": "code",
   "execution_count": 141,
   "id": "9e20949c",
   "metadata": {},
   "outputs": [],
   "source": [
    "# df.Team1.isnull()"
   ]
  },
  {
   "cell_type": "code",
   "execution_count": 142,
   "id": "3b429e94",
   "metadata": {},
   "outputs": [
    {
     "data": {
      "text/plain": [
       "array(['Rajasthan Royals', 'Royal Challengers Bangalore',\n",
       "       'Sunrisers Hyderabad', 'Delhi Capitals', 'Chennai Super Kings',\n",
       "       'Gujarat Titans', 'Lucknow Super Giants', 'Kolkata Knight Riders',\n",
       "       'Punjab Kings', 'Mumbai Indians', 'Kings XI Punjab',\n",
       "       'Delhi Daredevils', 'Rising Pune Supergiant', 'Gujarat Lions',\n",
       "       'Rising Pune Supergiants', 'Pune Warriors', 'Deccan Chargers',\n",
       "       'Kochi Tuskers Kerala'], dtype=object)"
      ]
     },
     "execution_count": 142,
     "metadata": {},
     "output_type": "execute_result"
    }
   ],
   "source": [
    "df.Team1.unique()"
   ]
  },
  {
   "cell_type": "code",
   "execution_count": 143,
   "id": "751c9c27",
   "metadata": {},
   "outputs": [],
   "source": [
    "def remove_old_club(x):\n",
    "    if x not in ['Punjab Kings','Delhi Daredevils','Rising Pune Supergiant','Gujarat Lions','Rising Pune Supergiants','Pune Warriors','Deccan Chargers','Kochi Tuskers Kerala']:\n",
    "        return True\n",
    "    return False\n",
    "\n",
    "# remove_old_club(\"Kings XI Punjab\")\n",
    "df.Team1 = np.where(df.Team1.apply(remove_old_club),df.Team1,np.nan)\n",
    "df.Team2 = np.where(df.Team2.apply(remove_old_club),df.Team2,np.nan)"
   ]
  },
  {
   "cell_type": "code",
   "execution_count": 144,
   "id": "e8ae1282",
   "metadata": {},
   "outputs": [
    {
     "data": {
      "text/plain": [
       "array(['Rajasthan Royals', 'Royal Challengers Bangalore',\n",
       "       'Sunrisers Hyderabad', 'Delhi Capitals', 'Chennai Super Kings',\n",
       "       'Gujarat Titans', 'Lucknow Super Giants', 'Kolkata Knight Riders',\n",
       "       nan, 'Mumbai Indians', 'Kings XI Punjab'], dtype=object)"
      ]
     },
     "execution_count": 144,
     "metadata": {},
     "output_type": "execute_result"
    }
   ],
   "source": [
    "df.Team1.unique()"
   ]
  },
  {
   "cell_type": "code",
   "execution_count": 145,
   "id": "08dc767f",
   "metadata": {},
   "outputs": [
    {
     "data": {
      "text/plain": [
       "array(['Gujarat Titans', 'Rajasthan Royals', 'Lucknow Super Giants', nan,\n",
       "       'Mumbai Indians', 'Royal Challengers Bangalore',\n",
       "       'Kolkata Knight Riders', 'Sunrisers Hyderabad', 'Delhi Capitals',\n",
       "       'Chennai Super Kings', 'Kings XI Punjab'], dtype=object)"
      ]
     },
     "execution_count": 145,
     "metadata": {},
     "output_type": "execute_result"
    }
   ],
   "source": [
    "df.Team2.unique()"
   ]
  },
  {
   "cell_type": "code",
   "execution_count": 146,
   "id": "e672cd00",
   "metadata": {},
   "outputs": [
    {
     "data": {
      "text/plain": [
       "(946, 8)"
      ]
     },
     "execution_count": 146,
     "metadata": {},
     "output_type": "execute_result"
    }
   ],
   "source": [
    "df.shape"
   ]
  },
  {
   "cell_type": "code",
   "execution_count": 147,
   "id": "a02de31d",
   "metadata": {},
   "outputs": [],
   "source": [
    "df.dropna(inplace=True)"
   ]
  },
  {
   "cell_type": "code",
   "execution_count": 148,
   "id": "f8072517",
   "metadata": {},
   "outputs": [
    {
     "data": {
      "text/plain": [
       "(601, 8)"
      ]
     },
     "execution_count": 148,
     "metadata": {},
     "output_type": "execute_result"
    }
   ],
   "source": [
    "df.shape"
   ]
  },
  {
   "cell_type": "code",
   "execution_count": 149,
   "id": "ce2226a7",
   "metadata": {},
   "outputs": [
    {
     "data": {
      "text/plain": [
       "array(['Narendra Modi Stadium, Ahmedabad', 'Eden Gardens, Kolkata',\n",
       "       'Wankhede Stadium, Mumbai', 'Brabourne Stadium, Mumbai',\n",
       "       'Dr DY Patil Sports Academy, Mumbai',\n",
       "       'Maharashtra Cricket Association Stadium, Pune',\n",
       "       'Dubai International Cricket Stadium', 'Sharjah Cricket Stadium',\n",
       "       'Zayed Cricket Stadium, Abu Dhabi', 'Arun Jaitley Stadium, Delhi',\n",
       "       'MA Chidambaram Stadium, Chepauk, Chennai', 'Sheikh Zayed Stadium',\n",
       "       'Rajiv Gandhi International Stadium',\n",
       "       'Dr. Y.S. Rajasekhara Reddy ACA-VDCA Cricket Stadium',\n",
       "       'MA Chidambaram Stadium',\n",
       "       'Punjab Cricket Association IS Bindra Stadium', 'Wankhede Stadium',\n",
       "       'M.Chinnaswamy Stadium', 'Arun Jaitley Stadium', 'Eden Gardens',\n",
       "       'Sawai Mansingh Stadium',\n",
       "       'Maharashtra Cricket Association Stadium',\n",
       "       'Holkar Cricket Stadium', 'M Chinnaswamy Stadium',\n",
       "       'Punjab Cricket Association IS Bindra Stadium, Mohali',\n",
       "       'Rajiv Gandhi International Stadium, Uppal', 'Feroz Shah Kotla',\n",
       "       'JSCA International Stadium Complex', 'Brabourne Stadium',\n",
       "       'Punjab Cricket Association Stadium, Mohali',\n",
       "       'MA Chidambaram Stadium, Chepauk', 'Sardar Patel Stadium, Motera',\n",
       "       'Barabati Stadium', 'Himachal Pradesh Cricket Association Stadium',\n",
       "       'Dr DY Patil Sports Academy', 'New Wanderers Stadium', 'Kingsmead',\n",
       "       'SuperSport Park', \"St George's Park\", 'De Beers Diamond Oval',\n",
       "       'Buffalo Park', 'Newlands'], dtype=object)"
      ]
     },
     "execution_count": 149,
     "metadata": {},
     "output_type": "execute_result"
    }
   ],
   "source": [
    "df.Venue.unique()"
   ]
  },
  {
   "cell_type": "code",
   "execution_count": 150,
   "id": "4907d325",
   "metadata": {},
   "outputs": [
    {
     "data": {
      "text/plain": [
       "(42,)"
      ]
     },
     "execution_count": 150,
     "metadata": {},
     "output_type": "execute_result"
    }
   ],
   "source": [
    "df.Venue.unique().shape"
   ]
  },
  {
   "cell_type": "code",
   "execution_count": 151,
   "id": "8a4862fa",
   "metadata": {},
   "outputs": [],
   "source": [
    "counts = df.Venue.value_counts()"
   ]
  },
  {
   "cell_type": "code",
   "execution_count": 152,
   "id": "3ef0f94d",
   "metadata": {},
   "outputs": [
    {
     "data": {
      "text/plain": [
       "(42,)"
      ]
     },
     "execution_count": 152,
     "metadata": {},
     "output_type": "execute_result"
    }
   ],
   "source": [
    "counts.shape"
   ]
  },
  {
   "cell_type": "code",
   "execution_count": 153,
   "id": "b750d05a",
   "metadata": {},
   "outputs": [
    {
     "data": {
      "text/plain": [
       "Eden Gardens                                            60\n",
       "Wankhede Stadium                                        54\n",
       "M Chinnaswamy Stadium                                   45\n",
       "Dubai International Cricket Stadium                     41\n",
       "Sawai Mansingh Stadium                                  36\n",
       "MA Chidambaram Stadium, Chepauk                         33\n",
       "Sheikh Zayed Stadium                                    28\n",
       "Punjab Cricket Association Stadium, Mohali              27\n",
       "Sharjah Cricket Stadium                                 24\n",
       "Wankhede Stadium, Mumbai                                24\n",
       "Rajiv Gandhi International Stadium, Uppal               22\n",
       "Dr DY Patil Sports Academy, Mumbai                      16\n",
       "Rajiv Gandhi International Stadium                      14\n",
       "Brabourne Stadium, Mumbai                               13\n",
       "M.Chinnaswamy Stadium                                   12\n",
       "Maharashtra Cricket Association Stadium, Pune           11\n",
       "Kingsmead                                               10\n",
       "Sardar Patel Stadium, Motera                             9\n",
       "MA Chidambaram Stadium                                   9\n",
       "Punjab Cricket Association IS Bindra Stadium             9\n",
       "Maharashtra Cricket Association Stadium                  8\n",
       "MA Chidambaram Stadium, Chepauk, Chennai                 8\n",
       "Arun Jaitley Stadium                                     7\n",
       "Brabourne Stadium                                        7\n",
       "Zayed Cricket Stadium, Abu Dhabi                         7\n",
       "SuperSport Park                                          6\n",
       "Holkar Cricket Stadium                                   6\n",
       "Punjab Cricket Association IS Bindra Stadium, Mohali     6\n",
       "Dr. Y.S. Rajasekhara Reddy ACA-VDCA Cricket Stadium      6\n",
       "JSCA International Stadium Complex                       6\n",
       "St George's Park                                         5\n",
       "Himachal Pradesh Cricket Association Stadium             4\n",
       "Dr DY Patil Sports Academy                               4\n",
       "Narendra Modi Stadium, Ahmedabad                         4\n",
       "Arun Jaitley Stadium, Delhi                              4\n",
       "Newlands                                                 4\n",
       "Barabati Stadium                                         3\n",
       "Feroz Shah Kotla                                         3\n",
       "New Wanderers Stadium                                    2\n",
       "Eden Gardens, Kolkata                                    2\n",
       "De Beers Diamond Oval                                    1\n",
       "Buffalo Park                                             1\n",
       "Name: Venue, dtype: int64"
      ]
     },
     "execution_count": 153,
     "metadata": {},
     "output_type": "execute_result"
    }
   ],
   "source": [
    "counts"
   ]
  },
  {
   "cell_type": "code",
   "execution_count": 154,
   "id": "be85e383",
   "metadata": {},
   "outputs": [],
   "source": [
    "repl = counts[counts<10]"
   ]
  },
  {
   "cell_type": "code",
   "execution_count": 155,
   "id": "77eaa414",
   "metadata": {},
   "outputs": [
    {
     "data": {
      "text/plain": [
       "Sardar Patel Stadium, Motera                            9\n",
       "MA Chidambaram Stadium                                  9\n",
       "Punjab Cricket Association IS Bindra Stadium            9\n",
       "Maharashtra Cricket Association Stadium                 8\n",
       "MA Chidambaram Stadium, Chepauk, Chennai                8\n",
       "Arun Jaitley Stadium                                    7\n",
       "Brabourne Stadium                                       7\n",
       "Zayed Cricket Stadium, Abu Dhabi                        7\n",
       "SuperSport Park                                         6\n",
       "Holkar Cricket Stadium                                  6\n",
       "Punjab Cricket Association IS Bindra Stadium, Mohali    6\n",
       "Dr. Y.S. Rajasekhara Reddy ACA-VDCA Cricket Stadium     6\n",
       "JSCA International Stadium Complex                      6\n",
       "St George's Park                                        5\n",
       "Himachal Pradesh Cricket Association Stadium            4\n",
       "Dr DY Patil Sports Academy                              4\n",
       "Narendra Modi Stadium, Ahmedabad                        4\n",
       "Arun Jaitley Stadium, Delhi                             4\n",
       "Newlands                                                4\n",
       "Barabati Stadium                                        3\n",
       "Feroz Shah Kotla                                        3\n",
       "New Wanderers Stadium                                   2\n",
       "Eden Gardens, Kolkata                                   2\n",
       "De Beers Diamond Oval                                   1\n",
       "Buffalo Park                                            1\n",
       "Name: Venue, dtype: int64"
      ]
     },
     "execution_count": 155,
     "metadata": {},
     "output_type": "execute_result"
    }
   ],
   "source": [
    "repl"
   ]
  },
  {
   "cell_type": "code",
   "execution_count": 156,
   "id": "a6115c50",
   "metadata": {},
   "outputs": [
    {
     "data": {
      "text/plain": [
       "(25,)"
      ]
     },
     "execution_count": 156,
     "metadata": {},
     "output_type": "execute_result"
    }
   ],
   "source": [
    "repl.shape"
   ]
  },
  {
   "cell_type": "code",
   "execution_count": 157,
   "id": "5249ed62",
   "metadata": {},
   "outputs": [],
   "source": [
    "repl = repl.index"
   ]
  },
  {
   "cell_type": "code",
   "execution_count": 158,
   "id": "6002f771",
   "metadata": {},
   "outputs": [],
   "source": [
    "df['Venue'] = df['Venue'].replace(repl,\"NO Matter\")"
   ]
  },
  {
   "cell_type": "code",
   "execution_count": 159,
   "id": "f55e38b3",
   "metadata": {},
   "outputs": [
    {
     "data": {
      "text/plain": [
       "array(['NO Matter', 'Wankhede Stadium, Mumbai',\n",
       "       'Brabourne Stadium, Mumbai', 'Dr DY Patil Sports Academy, Mumbai',\n",
       "       'Maharashtra Cricket Association Stadium, Pune',\n",
       "       'Dubai International Cricket Stadium', 'Sharjah Cricket Stadium',\n",
       "       'Sheikh Zayed Stadium', 'Rajiv Gandhi International Stadium',\n",
       "       'Wankhede Stadium', 'M.Chinnaswamy Stadium', 'Eden Gardens',\n",
       "       'Sawai Mansingh Stadium', 'M Chinnaswamy Stadium',\n",
       "       'Rajiv Gandhi International Stadium, Uppal',\n",
       "       'Punjab Cricket Association Stadium, Mohali',\n",
       "       'MA Chidambaram Stadium, Chepauk', 'Kingsmead'], dtype=object)"
      ]
     },
     "execution_count": 159,
     "metadata": {},
     "output_type": "execute_result"
    }
   ],
   "source": [
    "df.Venue.unique()"
   ]
  },
  {
   "cell_type": "code",
   "execution_count": 160,
   "id": "2cb6612e",
   "metadata": {},
   "outputs": [
    {
     "data": {
      "text/plain": [
       "NO Matter                                        131\n",
       "Eden Gardens                                      60\n",
       "Wankhede Stadium                                  54\n",
       "M Chinnaswamy Stadium                             45\n",
       "Dubai International Cricket Stadium               41\n",
       "Sawai Mansingh Stadium                            36\n",
       "MA Chidambaram Stadium, Chepauk                   33\n",
       "Sheikh Zayed Stadium                              28\n",
       "Punjab Cricket Association Stadium, Mohali        27\n",
       "Sharjah Cricket Stadium                           24\n",
       "Wankhede Stadium, Mumbai                          24\n",
       "Rajiv Gandhi International Stadium, Uppal         22\n",
       "Dr DY Patil Sports Academy, Mumbai                16\n",
       "Rajiv Gandhi International Stadium                14\n",
       "Brabourne Stadium, Mumbai                         13\n",
       "M.Chinnaswamy Stadium                             12\n",
       "Maharashtra Cricket Association Stadium, Pune     11\n",
       "Kingsmead                                         10\n",
       "Name: Venue, dtype: int64"
      ]
     },
     "execution_count": 160,
     "metadata": {},
     "output_type": "execute_result"
    }
   ],
   "source": [
    "df.Venue.value_counts()"
   ]
  },
  {
   "cell_type": "code",
   "execution_count": 161,
   "id": "a3d3a37d",
   "metadata": {},
   "outputs": [
    {
     "data": {
      "text/html": [
       "<div>\n",
       "<style scoped>\n",
       "    .dataframe tbody tr th:only-of-type {\n",
       "        vertical-align: middle;\n",
       "    }\n",
       "\n",
       "    .dataframe tbody tr th {\n",
       "        vertical-align: top;\n",
       "    }\n",
       "\n",
       "    .dataframe thead th {\n",
       "        text-align: right;\n",
       "    }\n",
       "</style>\n",
       "<table border=\"1\" class=\"dataframe\">\n",
       "  <thead>\n",
       "    <tr style=\"text-align: right;\">\n",
       "      <th></th>\n",
       "      <th>City</th>\n",
       "      <th>MatchNumber</th>\n",
       "      <th>Team1</th>\n",
       "      <th>Team2</th>\n",
       "      <th>Venue</th>\n",
       "      <th>TossWinner</th>\n",
       "      <th>TossDecision</th>\n",
       "      <th>WinningTeam</th>\n",
       "    </tr>\n",
       "  </thead>\n",
       "  <tbody>\n",
       "    <tr>\n",
       "      <th>0</th>\n",
       "      <td>Ahmedabad</td>\n",
       "      <td>Final</td>\n",
       "      <td>Rajasthan Royals</td>\n",
       "      <td>Gujarat Titans</td>\n",
       "      <td>NO Matter</td>\n",
       "      <td>Rajasthan Royals</td>\n",
       "      <td>bat</td>\n",
       "      <td>Gujarat Titans</td>\n",
       "    </tr>\n",
       "    <tr>\n",
       "      <th>1</th>\n",
       "      <td>Ahmedabad</td>\n",
       "      <td>Qualifier</td>\n",
       "      <td>Royal Challengers Bangalore</td>\n",
       "      <td>Rajasthan Royals</td>\n",
       "      <td>NO Matter</td>\n",
       "      <td>Rajasthan Royals</td>\n",
       "      <td>field</td>\n",
       "      <td>Rajasthan Royals</td>\n",
       "    </tr>\n",
       "    <tr>\n",
       "      <th>2</th>\n",
       "      <td>Kolkata</td>\n",
       "      <td>Elimination</td>\n",
       "      <td>Royal Challengers Bangalore</td>\n",
       "      <td>Lucknow Super Giants</td>\n",
       "      <td>NO Matter</td>\n",
       "      <td>Lucknow Super Giants</td>\n",
       "      <td>field</td>\n",
       "      <td>Royal Challengers Bangalore</td>\n",
       "    </tr>\n",
       "    <tr>\n",
       "      <th>3</th>\n",
       "      <td>Kolkata</td>\n",
       "      <td>Qualifier</td>\n",
       "      <td>Rajasthan Royals</td>\n",
       "      <td>Gujarat Titans</td>\n",
       "      <td>NO Matter</td>\n",
       "      <td>Gujarat Titans</td>\n",
       "      <td>field</td>\n",
       "      <td>Gujarat Titans</td>\n",
       "    </tr>\n",
       "    <tr>\n",
       "      <th>5</th>\n",
       "      <td>Mumbai</td>\n",
       "      <td>Normal</td>\n",
       "      <td>Delhi Capitals</td>\n",
       "      <td>Mumbai Indians</td>\n",
       "      <td>Wankhede Stadium, Mumbai</td>\n",
       "      <td>Mumbai Indians</td>\n",
       "      <td>field</td>\n",
       "      <td>Mumbai Indians</td>\n",
       "    </tr>\n",
       "  </tbody>\n",
       "</table>\n",
       "</div>"
      ],
      "text/plain": [
       "        City  MatchNumber                        Team1                 Team2  \\\n",
       "0  Ahmedabad        Final             Rajasthan Royals        Gujarat Titans   \n",
       "1  Ahmedabad    Qualifier  Royal Challengers Bangalore      Rajasthan Royals   \n",
       "2    Kolkata  Elimination  Royal Challengers Bangalore  Lucknow Super Giants   \n",
       "3    Kolkata    Qualifier             Rajasthan Royals        Gujarat Titans   \n",
       "5     Mumbai       Normal               Delhi Capitals        Mumbai Indians   \n",
       "\n",
       "                      Venue            TossWinner TossDecision  \\\n",
       "0                 NO Matter      Rajasthan Royals          bat   \n",
       "1                 NO Matter      Rajasthan Royals        field   \n",
       "2                 NO Matter  Lucknow Super Giants        field   \n",
       "3                 NO Matter        Gujarat Titans        field   \n",
       "5  Wankhede Stadium, Mumbai        Mumbai Indians        field   \n",
       "\n",
       "                   WinningTeam  \n",
       "0               Gujarat Titans  \n",
       "1             Rajasthan Royals  \n",
       "2  Royal Challengers Bangalore  \n",
       "3               Gujarat Titans  \n",
       "5               Mumbai Indians  "
      ]
     },
     "execution_count": 161,
     "metadata": {},
     "output_type": "execute_result"
    }
   ],
   "source": [
    "df.head()"
   ]
  },
  {
   "cell_type": "code",
   "execution_count": 162,
   "id": "07a3c1d4",
   "metadata": {},
   "outputs": [
    {
     "data": {
      "text/plain": [
       "Mumbai Indians                 102\n",
       "Chennai Super Kings             87\n",
       "Kolkata Knight Riders           84\n",
       "Rajasthan Royals                80\n",
       "Royal Challengers Bangalore     77\n",
       "Kings XI Punjab                 63\n",
       "Sunrisers Hyderabad             60\n",
       "Delhi Capitals                  33\n",
       "Gujarat Titans                   8\n",
       "Lucknow Super Giants             7\n",
       "Name: TossWinner, dtype: int64"
      ]
     },
     "execution_count": 162,
     "metadata": {},
     "output_type": "execute_result"
    }
   ],
   "source": [
    "df.TossWinner.value_counts()"
   ]
  },
  {
   "cell_type": "code",
   "execution_count": 163,
   "id": "bb79d1cd",
   "metadata": {},
   "outputs": [
    {
     "data": {
      "text/plain": [
       "field    387\n",
       "bat      214\n",
       "Name: TossDecision, dtype: int64"
      ]
     },
     "execution_count": 163,
     "metadata": {},
     "output_type": "execute_result"
    }
   ],
   "source": [
    "df.TossDecision.value_counts()"
   ]
  },
  {
   "cell_type": "code",
   "execution_count": 164,
   "id": "87242533",
   "metadata": {},
   "outputs": [
    {
     "data": {
      "text/plain": [
       "Mumbai Indians                 104\n",
       "Chennai Super Kings             97\n",
       "Kolkata Knight Riders           84\n",
       "Royal Challengers Bangalore     77\n",
       "Rajasthan Royals                71\n",
       "Kings XI Punjab                 60\n",
       "Sunrisers Hyderabad             57\n",
       "Delhi Capitals                  32\n",
       "Gujarat Titans                  11\n",
       "Lucknow Super Giants             8\n",
       "Name: WinningTeam, dtype: int64"
      ]
     },
     "execution_count": 164,
     "metadata": {},
     "output_type": "execute_result"
    }
   ],
   "source": [
    "df.WinningTeam.value_counts()"
   ]
  },
  {
   "cell_type": "code",
   "execution_count": 165,
   "id": "d50e111e",
   "metadata": {},
   "outputs": [],
   "source": [
    "data = df"
   ]
  },
  {
   "cell_type": "code",
   "execution_count": 166,
   "id": "ac0dbc06",
   "metadata": {},
   "outputs": [
    {
     "data": {
      "text/html": [
       "<div>\n",
       "<style scoped>\n",
       "    .dataframe tbody tr th:only-of-type {\n",
       "        vertical-align: middle;\n",
       "    }\n",
       "\n",
       "    .dataframe tbody tr th {\n",
       "        vertical-align: top;\n",
       "    }\n",
       "\n",
       "    .dataframe thead th {\n",
       "        text-align: right;\n",
       "    }\n",
       "</style>\n",
       "<table border=\"1\" class=\"dataframe\">\n",
       "  <thead>\n",
       "    <tr style=\"text-align: right;\">\n",
       "      <th></th>\n",
       "      <th>City</th>\n",
       "      <th>MatchNumber</th>\n",
       "      <th>Team1</th>\n",
       "      <th>Team2</th>\n",
       "      <th>Venue</th>\n",
       "      <th>TossWinner</th>\n",
       "      <th>TossDecision</th>\n",
       "      <th>WinningTeam</th>\n",
       "    </tr>\n",
       "  </thead>\n",
       "  <tbody>\n",
       "    <tr>\n",
       "      <th>0</th>\n",
       "      <td>Ahmedabad</td>\n",
       "      <td>Final</td>\n",
       "      <td>Rajasthan Royals</td>\n",
       "      <td>Gujarat Titans</td>\n",
       "      <td>NO Matter</td>\n",
       "      <td>Rajasthan Royals</td>\n",
       "      <td>bat</td>\n",
       "      <td>Gujarat Titans</td>\n",
       "    </tr>\n",
       "    <tr>\n",
       "      <th>1</th>\n",
       "      <td>Ahmedabad</td>\n",
       "      <td>Qualifier</td>\n",
       "      <td>Royal Challengers Bangalore</td>\n",
       "      <td>Rajasthan Royals</td>\n",
       "      <td>NO Matter</td>\n",
       "      <td>Rajasthan Royals</td>\n",
       "      <td>field</td>\n",
       "      <td>Rajasthan Royals</td>\n",
       "    </tr>\n",
       "    <tr>\n",
       "      <th>2</th>\n",
       "      <td>Kolkata</td>\n",
       "      <td>Elimination</td>\n",
       "      <td>Royal Challengers Bangalore</td>\n",
       "      <td>Lucknow Super Giants</td>\n",
       "      <td>NO Matter</td>\n",
       "      <td>Lucknow Super Giants</td>\n",
       "      <td>field</td>\n",
       "      <td>Royal Challengers Bangalore</td>\n",
       "    </tr>\n",
       "    <tr>\n",
       "      <th>3</th>\n",
       "      <td>Kolkata</td>\n",
       "      <td>Qualifier</td>\n",
       "      <td>Rajasthan Royals</td>\n",
       "      <td>Gujarat Titans</td>\n",
       "      <td>NO Matter</td>\n",
       "      <td>Gujarat Titans</td>\n",
       "      <td>field</td>\n",
       "      <td>Gujarat Titans</td>\n",
       "    </tr>\n",
       "    <tr>\n",
       "      <th>5</th>\n",
       "      <td>Mumbai</td>\n",
       "      <td>Normal</td>\n",
       "      <td>Delhi Capitals</td>\n",
       "      <td>Mumbai Indians</td>\n",
       "      <td>Wankhede Stadium, Mumbai</td>\n",
       "      <td>Mumbai Indians</td>\n",
       "      <td>field</td>\n",
       "      <td>Mumbai Indians</td>\n",
       "    </tr>\n",
       "  </tbody>\n",
       "</table>\n",
       "</div>"
      ],
      "text/plain": [
       "        City  MatchNumber                        Team1                 Team2  \\\n",
       "0  Ahmedabad        Final             Rajasthan Royals        Gujarat Titans   \n",
       "1  Ahmedabad    Qualifier  Royal Challengers Bangalore      Rajasthan Royals   \n",
       "2    Kolkata  Elimination  Royal Challengers Bangalore  Lucknow Super Giants   \n",
       "3    Kolkata    Qualifier             Rajasthan Royals        Gujarat Titans   \n",
       "5     Mumbai       Normal               Delhi Capitals        Mumbai Indians   \n",
       "\n",
       "                      Venue            TossWinner TossDecision  \\\n",
       "0                 NO Matter      Rajasthan Royals          bat   \n",
       "1                 NO Matter      Rajasthan Royals        field   \n",
       "2                 NO Matter  Lucknow Super Giants        field   \n",
       "3                 NO Matter        Gujarat Titans        field   \n",
       "5  Wankhede Stadium, Mumbai        Mumbai Indians        field   \n",
       "\n",
       "                   WinningTeam  \n",
       "0               Gujarat Titans  \n",
       "1             Rajasthan Royals  \n",
       "2  Royal Challengers Bangalore  \n",
       "3               Gujarat Titans  \n",
       "5               Mumbai Indians  "
      ]
     },
     "execution_count": 166,
     "metadata": {},
     "output_type": "execute_result"
    }
   ],
   "source": [
    "data.head()"
   ]
  },
  {
   "cell_type": "code",
   "execution_count": 167,
   "id": "d9645ad1",
   "metadata": {},
   "outputs": [],
   "source": [
    "data['Winner'] = np.where(data['WinningTeam']==data['Team1'],'1','2')"
   ]
  },
  {
   "cell_type": "code",
   "execution_count": 168,
   "id": "178962cc",
   "metadata": {},
   "outputs": [
    {
     "data": {
      "text/html": [
       "<div>\n",
       "<style scoped>\n",
       "    .dataframe tbody tr th:only-of-type {\n",
       "        vertical-align: middle;\n",
       "    }\n",
       "\n",
       "    .dataframe tbody tr th {\n",
       "        vertical-align: top;\n",
       "    }\n",
       "\n",
       "    .dataframe thead th {\n",
       "        text-align: right;\n",
       "    }\n",
       "</style>\n",
       "<table border=\"1\" class=\"dataframe\">\n",
       "  <thead>\n",
       "    <tr style=\"text-align: right;\">\n",
       "      <th></th>\n",
       "      <th>City</th>\n",
       "      <th>MatchNumber</th>\n",
       "      <th>Team1</th>\n",
       "      <th>Team2</th>\n",
       "      <th>Venue</th>\n",
       "      <th>TossWinner</th>\n",
       "      <th>TossDecision</th>\n",
       "      <th>WinningTeam</th>\n",
       "      <th>Winner</th>\n",
       "    </tr>\n",
       "  </thead>\n",
       "  <tbody>\n",
       "    <tr>\n",
       "      <th>0</th>\n",
       "      <td>Ahmedabad</td>\n",
       "      <td>Final</td>\n",
       "      <td>Rajasthan Royals</td>\n",
       "      <td>Gujarat Titans</td>\n",
       "      <td>NO Matter</td>\n",
       "      <td>Rajasthan Royals</td>\n",
       "      <td>bat</td>\n",
       "      <td>Gujarat Titans</td>\n",
       "      <td>2</td>\n",
       "    </tr>\n",
       "    <tr>\n",
       "      <th>1</th>\n",
       "      <td>Ahmedabad</td>\n",
       "      <td>Qualifier</td>\n",
       "      <td>Royal Challengers Bangalore</td>\n",
       "      <td>Rajasthan Royals</td>\n",
       "      <td>NO Matter</td>\n",
       "      <td>Rajasthan Royals</td>\n",
       "      <td>field</td>\n",
       "      <td>Rajasthan Royals</td>\n",
       "      <td>2</td>\n",
       "    </tr>\n",
       "    <tr>\n",
       "      <th>2</th>\n",
       "      <td>Kolkata</td>\n",
       "      <td>Elimination</td>\n",
       "      <td>Royal Challengers Bangalore</td>\n",
       "      <td>Lucknow Super Giants</td>\n",
       "      <td>NO Matter</td>\n",
       "      <td>Lucknow Super Giants</td>\n",
       "      <td>field</td>\n",
       "      <td>Royal Challengers Bangalore</td>\n",
       "      <td>1</td>\n",
       "    </tr>\n",
       "    <tr>\n",
       "      <th>3</th>\n",
       "      <td>Kolkata</td>\n",
       "      <td>Qualifier</td>\n",
       "      <td>Rajasthan Royals</td>\n",
       "      <td>Gujarat Titans</td>\n",
       "      <td>NO Matter</td>\n",
       "      <td>Gujarat Titans</td>\n",
       "      <td>field</td>\n",
       "      <td>Gujarat Titans</td>\n",
       "      <td>2</td>\n",
       "    </tr>\n",
       "    <tr>\n",
       "      <th>5</th>\n",
       "      <td>Mumbai</td>\n",
       "      <td>Normal</td>\n",
       "      <td>Delhi Capitals</td>\n",
       "      <td>Mumbai Indians</td>\n",
       "      <td>Wankhede Stadium, Mumbai</td>\n",
       "      <td>Mumbai Indians</td>\n",
       "      <td>field</td>\n",
       "      <td>Mumbai Indians</td>\n",
       "      <td>2</td>\n",
       "    </tr>\n",
       "  </tbody>\n",
       "</table>\n",
       "</div>"
      ],
      "text/plain": [
       "        City  MatchNumber                        Team1                 Team2  \\\n",
       "0  Ahmedabad        Final             Rajasthan Royals        Gujarat Titans   \n",
       "1  Ahmedabad    Qualifier  Royal Challengers Bangalore      Rajasthan Royals   \n",
       "2    Kolkata  Elimination  Royal Challengers Bangalore  Lucknow Super Giants   \n",
       "3    Kolkata    Qualifier             Rajasthan Royals        Gujarat Titans   \n",
       "5     Mumbai       Normal               Delhi Capitals        Mumbai Indians   \n",
       "\n",
       "                      Venue            TossWinner TossDecision  \\\n",
       "0                 NO Matter      Rajasthan Royals          bat   \n",
       "1                 NO Matter      Rajasthan Royals        field   \n",
       "2                 NO Matter  Lucknow Super Giants        field   \n",
       "3                 NO Matter        Gujarat Titans        field   \n",
       "5  Wankhede Stadium, Mumbai        Mumbai Indians        field   \n",
       "\n",
       "                   WinningTeam Winner  \n",
       "0               Gujarat Titans      2  \n",
       "1             Rajasthan Royals      2  \n",
       "2  Royal Challengers Bangalore      1  \n",
       "3               Gujarat Titans      2  \n",
       "5               Mumbai Indians      2  "
      ]
     },
     "execution_count": 168,
     "metadata": {},
     "output_type": "execute_result"
    }
   ],
   "source": [
    "data.head()"
   ]
  },
  {
   "cell_type": "code",
   "execution_count": 169,
   "id": "b41b930d",
   "metadata": {},
   "outputs": [
    {
     "name": "stdout",
     "output_type": "stream",
     "text": [
      "<class 'pandas.core.frame.DataFrame'>\n",
      "Int64Index: 601 entries, 0 to 949\n",
      "Data columns (total 9 columns):\n",
      " #   Column        Non-Null Count  Dtype \n",
      "---  ------        --------------  ----- \n",
      " 0   City          601 non-null    object\n",
      " 1   MatchNumber   601 non-null    object\n",
      " 2   Team1         601 non-null    object\n",
      " 3   Team2         601 non-null    object\n",
      " 4   Venue         601 non-null    object\n",
      " 5   TossWinner    601 non-null    object\n",
      " 6   TossDecision  601 non-null    object\n",
      " 7   WinningTeam   601 non-null    object\n",
      " 8   Winner        601 non-null    object\n",
      "dtypes: object(9)\n",
      "memory usage: 47.0+ KB\n"
     ]
    }
   ],
   "source": [
    "data.info()"
   ]
  },
  {
   "cell_type": "code",
   "execution_count": 170,
   "id": "d4d75a9e",
   "metadata": {},
   "outputs": [],
   "source": [
    "data = data.drop(columns=['WinningTeam'])"
   ]
  },
  {
   "cell_type": "code",
   "execution_count": 171,
   "id": "f245b1bf",
   "metadata": {},
   "outputs": [],
   "source": [
    "x = data.drop(columns=['Winner'])\n",
    "y = data['Winner']"
   ]
  },
  {
   "cell_type": "code",
   "execution_count": 172,
   "id": "35d3415d",
   "metadata": {},
   "outputs": [
    {
     "data": {
      "text/html": [
       "<div>\n",
       "<style scoped>\n",
       "    .dataframe tbody tr th:only-of-type {\n",
       "        vertical-align: middle;\n",
       "    }\n",
       "\n",
       "    .dataframe tbody tr th {\n",
       "        vertical-align: top;\n",
       "    }\n",
       "\n",
       "    .dataframe thead th {\n",
       "        text-align: right;\n",
       "    }\n",
       "</style>\n",
       "<table border=\"1\" class=\"dataframe\">\n",
       "  <thead>\n",
       "    <tr style=\"text-align: right;\">\n",
       "      <th></th>\n",
       "      <th>City</th>\n",
       "      <th>MatchNumber</th>\n",
       "      <th>Team1</th>\n",
       "      <th>Team2</th>\n",
       "      <th>Venue</th>\n",
       "      <th>TossWinner</th>\n",
       "      <th>TossDecision</th>\n",
       "    </tr>\n",
       "  </thead>\n",
       "  <tbody>\n",
       "    <tr>\n",
       "      <th>0</th>\n",
       "      <td>Ahmedabad</td>\n",
       "      <td>Final</td>\n",
       "      <td>Rajasthan Royals</td>\n",
       "      <td>Gujarat Titans</td>\n",
       "      <td>NO Matter</td>\n",
       "      <td>Rajasthan Royals</td>\n",
       "      <td>bat</td>\n",
       "    </tr>\n",
       "    <tr>\n",
       "      <th>1</th>\n",
       "      <td>Ahmedabad</td>\n",
       "      <td>Qualifier</td>\n",
       "      <td>Royal Challengers Bangalore</td>\n",
       "      <td>Rajasthan Royals</td>\n",
       "      <td>NO Matter</td>\n",
       "      <td>Rajasthan Royals</td>\n",
       "      <td>field</td>\n",
       "    </tr>\n",
       "    <tr>\n",
       "      <th>2</th>\n",
       "      <td>Kolkata</td>\n",
       "      <td>Elimination</td>\n",
       "      <td>Royal Challengers Bangalore</td>\n",
       "      <td>Lucknow Super Giants</td>\n",
       "      <td>NO Matter</td>\n",
       "      <td>Lucknow Super Giants</td>\n",
       "      <td>field</td>\n",
       "    </tr>\n",
       "    <tr>\n",
       "      <th>3</th>\n",
       "      <td>Kolkata</td>\n",
       "      <td>Qualifier</td>\n",
       "      <td>Rajasthan Royals</td>\n",
       "      <td>Gujarat Titans</td>\n",
       "      <td>NO Matter</td>\n",
       "      <td>Gujarat Titans</td>\n",
       "      <td>field</td>\n",
       "    </tr>\n",
       "    <tr>\n",
       "      <th>5</th>\n",
       "      <td>Mumbai</td>\n",
       "      <td>Normal</td>\n",
       "      <td>Delhi Capitals</td>\n",
       "      <td>Mumbai Indians</td>\n",
       "      <td>Wankhede Stadium, Mumbai</td>\n",
       "      <td>Mumbai Indians</td>\n",
       "      <td>field</td>\n",
       "    </tr>\n",
       "  </tbody>\n",
       "</table>\n",
       "</div>"
      ],
      "text/plain": [
       "        City  MatchNumber                        Team1                 Team2  \\\n",
       "0  Ahmedabad        Final             Rajasthan Royals        Gujarat Titans   \n",
       "1  Ahmedabad    Qualifier  Royal Challengers Bangalore      Rajasthan Royals   \n",
       "2    Kolkata  Elimination  Royal Challengers Bangalore  Lucknow Super Giants   \n",
       "3    Kolkata    Qualifier             Rajasthan Royals        Gujarat Titans   \n",
       "5     Mumbai       Normal               Delhi Capitals        Mumbai Indians   \n",
       "\n",
       "                      Venue            TossWinner TossDecision  \n",
       "0                 NO Matter      Rajasthan Royals          bat  \n",
       "1                 NO Matter      Rajasthan Royals        field  \n",
       "2                 NO Matter  Lucknow Super Giants        field  \n",
       "3                 NO Matter        Gujarat Titans        field  \n",
       "5  Wankhede Stadium, Mumbai        Mumbai Indians        field  "
      ]
     },
     "execution_count": 172,
     "metadata": {},
     "output_type": "execute_result"
    }
   ],
   "source": [
    "x.head()"
   ]
  },
  {
   "cell_type": "code",
   "execution_count": 173,
   "id": "5e2cbbc4",
   "metadata": {},
   "outputs": [
    {
     "data": {
      "text/plain": [
       "0    2\n",
       "1    2\n",
       "2    1\n",
       "3    2\n",
       "5    2\n",
       "Name: Winner, dtype: object"
      ]
     },
     "execution_count": 173,
     "metadata": {},
     "output_type": "execute_result"
    }
   ],
   "source": [
    "y.head()"
   ]
  },
  {
   "cell_type": "code",
   "execution_count": 174,
   "id": "933b7346",
   "metadata": {},
   "outputs": [],
   "source": [
    "from sklearn.model_selection import train_test_split\n",
    "x_train,x_test,y_train,y_test = train_test_split(x,y,test_size=0.2,random_state=0)"
   ]
  },
  {
   "cell_type": "code",
   "execution_count": 175,
   "id": "ee11216b",
   "metadata": {},
   "outputs": [
    {
     "data": {
      "text/plain": [
       "942    1\n",
       "64     1\n",
       "219    1\n",
       "193    2\n",
       "473    2\n",
       "      ..\n",
       "610    1\n",
       "522    2\n",
       "331    2\n",
       "155    2\n",
       "803    1\n",
       "Name: Winner, Length: 121, dtype: object"
      ]
     },
     "execution_count": 175,
     "metadata": {},
     "output_type": "execute_result"
    }
   ],
   "source": [
    "y_test"
   ]
  },
  {
   "cell_type": "code",
   "execution_count": 176,
   "id": "79e0d517",
   "metadata": {},
   "outputs": [
    {
     "data": {
      "text/plain": [
       "607    1\n",
       "710    2\n",
       "300    1\n",
       "146    2\n",
       "170    1\n",
       "      ..\n",
       "327    2\n",
       "11     1\n",
       "493    2\n",
       "221    2\n",
       "874    1\n",
       "Name: Winner, Length: 480, dtype: object"
      ]
     },
     "execution_count": 176,
     "metadata": {},
     "output_type": "execute_result"
    }
   ],
   "source": [
    "y_train"
   ]
  },
  {
   "cell_type": "code",
   "execution_count": 177,
   "id": "8693ca5b",
   "metadata": {},
   "outputs": [],
   "source": [
    "from sklearn.compose import ColumnTransformer\n",
    "from sklearn.preprocessing import LabelEncoder\n",
    "from sklearn.preprocessing import OneHotEncoder"
   ]
  },
  {
   "cell_type": "code",
   "execution_count": 178,
   "id": "b0d9ae16",
   "metadata": {},
   "outputs": [],
   "source": [
    "from sklearn.pipeline import make_pipeline"
   ]
  },
  {
   "cell_type": "code",
   "execution_count": 179,
   "id": "578841f0",
   "metadata": {},
   "outputs": [],
   "source": [
    "le = LabelEncoder()\n",
    "le.fit(y_train)\n",
    "y_train = le.transform(y_train)\n",
    "y_test = le.transform(y_test)"
   ]
  },
  {
   "cell_type": "code",
   "execution_count": 180,
   "id": "72c618e4",
   "metadata": {},
   "outputs": [
    {
     "data": {
      "text/plain": [
       "array([0, 1, 0, 1, 0, 1, 0, 1, 0, 1, 1, 0, 1, 1, 1, 1, 0, 1, 0, 1, 1, 0,\n",
       "       0, 1, 0, 1, 1, 1, 1, 0, 0, 1, 1, 0, 0, 0, 0, 0, 1, 0, 1, 0, 0, 0,\n",
       "       1, 0, 0, 1, 1, 0, 0, 0, 1, 1, 0, 0, 1, 1, 0, 0, 1, 0, 0, 0, 1, 0,\n",
       "       1, 0, 0, 0, 1, 1, 1, 1, 1, 0, 1, 1, 1, 1, 1, 1, 0, 0, 0, 0, 0, 0,\n",
       "       0, 0, 0, 0, 0, 0, 1, 0, 1, 0, 0, 1, 1, 1, 1, 0, 1, 1, 0, 1, 0, 0,\n",
       "       0, 0, 0, 0, 1, 1, 0, 1, 0, 0, 1, 1, 0, 0, 0, 0, 1, 0, 1, 1, 1, 1,\n",
       "       0, 1, 1, 1, 0, 0, 0, 0, 1, 1, 0, 0, 1, 0, 1, 1, 1, 0, 0, 0, 1, 0,\n",
       "       1, 0, 1, 0, 1, 0, 0, 1, 0, 1, 1, 0, 0, 1, 1, 0, 0, 1, 1, 0, 1, 0,\n",
       "       0, 0, 1, 1, 1, 1, 1, 1, 0, 0, 0, 0, 0, 0, 0, 1, 0, 1, 1, 0, 1, 0,\n",
       "       0, 0, 1, 1, 1, 1, 0, 1, 0, 1, 1, 0, 1, 0, 0, 1, 0, 1, 0, 1, 0, 0,\n",
       "       1, 1, 1, 0, 0, 0, 1, 0, 0, 0, 0, 0, 1, 1, 1, 1, 0, 1, 1, 1, 1, 0,\n",
       "       1, 1, 0, 1, 0, 0, 1, 0, 0, 1, 0, 1, 0, 1, 0, 0, 1, 0, 1, 1, 1, 1,\n",
       "       1, 0, 0, 0, 0, 1, 1, 1, 0, 0, 1, 0, 0, 0, 1, 1, 0, 1, 1, 0, 0, 0,\n",
       "       0, 0, 0, 0, 1, 1, 0, 1, 1, 0, 1, 0, 0, 1, 1, 0, 0, 0, 1, 1, 1, 1,\n",
       "       1, 1, 1, 1, 0, 1, 0, 1, 1, 0, 0, 1, 0, 0, 1, 0, 1, 1, 1, 1, 0, 0,\n",
       "       0, 1, 0, 1, 0, 1, 1, 1, 1, 0, 1, 0, 0, 0, 0, 0, 1, 1, 1, 1, 1, 0,\n",
       "       1, 1, 1, 1, 0, 0, 0, 0, 0, 1, 1, 0, 1, 1, 0, 1, 1, 0, 1, 1, 1, 1,\n",
       "       0, 1, 1, 1, 1, 1, 1, 0, 0, 0, 0, 0, 1, 0, 1, 0, 0, 0, 1, 1, 0, 1,\n",
       "       0, 0, 1, 1, 0, 0, 1, 0, 0, 1, 0, 0, 0, 1, 1, 0, 1, 0, 1, 0, 0, 1,\n",
       "       0, 1, 0, 0, 1, 1, 1, 0, 1, 0, 0, 0, 1, 0, 0, 0, 1, 1, 1, 1, 0, 0,\n",
       "       0, 0, 1, 0, 0, 0, 1, 1, 1, 0, 1, 0, 0, 0, 1, 0, 1, 0, 0, 0, 0, 0,\n",
       "       1, 0, 1, 1, 0, 1, 1, 0, 0, 0, 1, 1, 1, 1, 0, 1, 1, 0])"
      ]
     },
     "execution_count": 180,
     "metadata": {},
     "output_type": "execute_result"
    }
   ],
   "source": [
    "y_train"
   ]
  },
  {
   "cell_type": "code",
   "execution_count": 181,
   "id": "bdab5a07",
   "metadata": {},
   "outputs": [
    {
     "data": {
      "text/plain": [
       "array([0, 0, 0, 1, 1, 1, 0, 0, 1, 1, 1, 0, 0, 0, 1, 1, 0, 1, 1, 0, 0, 1,\n",
       "       1, 1, 0, 0, 0, 1, 1, 1, 0, 0, 1, 1, 0, 0, 0, 0, 1, 0, 1, 0, 0, 1,\n",
       "       0, 0, 0, 1, 1, 1, 0, 1, 1, 0, 0, 0, 1, 0, 0, 0, 0, 0, 1, 1, 0, 1,\n",
       "       0, 0, 1, 1, 0, 0, 1, 1, 0, 1, 1, 1, 1, 0, 0, 0, 0, 0, 0, 1, 1, 0,\n",
       "       1, 1, 0, 0, 0, 1, 0, 0, 0, 1, 0, 1, 0, 0, 0, 0, 1, 0, 1, 0, 1, 1,\n",
       "       1, 0, 1, 1, 1, 0, 0, 1, 1, 1, 0])"
      ]
     },
     "execution_count": 181,
     "metadata": {},
     "output_type": "execute_result"
    }
   ],
   "source": [
    "y_test"
   ]
  },
  {
   "cell_type": "code",
   "execution_count": 182,
   "id": "88e1b758",
   "metadata": {},
   "outputs": [
    {
     "data": {
      "text/plain": [
       "Index(['City', 'MatchNumber', 'Team1', 'Team2', 'Venue', 'TossWinner',\n",
       "       'TossDecision'],\n",
       "      dtype='object')"
      ]
     },
     "execution_count": 182,
     "metadata": {},
     "output_type": "execute_result"
    }
   ],
   "source": [
    "x_train.columns"
   ]
  },
  {
   "cell_type": "code",
   "execution_count": 183,
   "id": "a038be40",
   "metadata": {},
   "outputs": [],
   "source": [
    "# x_train = x_train.drop(columns=['WinningTeam'])"
   ]
  },
  {
   "cell_type": "code",
   "execution_count": 184,
   "id": "92df8456",
   "metadata": {},
   "outputs": [],
   "source": [
    "# x_train"
   ]
  },
  {
   "cell_type": "code",
   "execution_count": 185,
   "id": "6813358a",
   "metadata": {},
   "outputs": [],
   "source": [
    "# x_test = x_test.drop(columns=['WinningTeam'])\n",
    "# x_test"
   ]
  },
  {
   "cell_type": "code",
   "execution_count": 186,
   "id": "0ae29d36",
   "metadata": {},
   "outputs": [],
   "source": [
    "trf1 = ColumnTransformer([\n",
    "    ('ohe',OneHotEncoder(sparse_output=False),['City', 'MatchNumber', 'Team1', 'Team2', 'Venue', 'TossWinner',\n",
    "       'TossDecision'])\n",
    "],remainder=\"drop\")"
   ]
  },
  {
   "cell_type": "code",
   "execution_count": 211,
   "id": "5eb13211",
   "metadata": {},
   "outputs": [],
   "source": [
    "from sklearn.linear_model import LinearRegression,Lasso,Ridge\n",
    "lr = LinearRegression()\n",
    "from sklearn import tree\n",
    "model = tree.DecisionTreeClassifier()"
   ]
  },
  {
   "cell_type": "code",
   "execution_count": 212,
   "id": "794c1e55",
   "metadata": {},
   "outputs": [],
   "source": [
    "# x_train_tranformed = trf1.fit_transform(x_train)"
   ]
  },
  {
   "cell_type": "code",
   "execution_count": 213,
   "id": "3d6d38db",
   "metadata": {},
   "outputs": [],
   "source": [
    "# x_test_tranformed = trf1.transform(x_test)"
   ]
  },
  {
   "cell_type": "code",
   "execution_count": null,
   "id": "57de75c2",
   "metadata": {},
   "outputs": [],
   "source": []
  },
  {
   "cell_type": "code",
   "execution_count": 214,
   "id": "4e35ed3f",
   "metadata": {},
   "outputs": [],
   "source": [
    "pipe = make_pipeline(trf1,model)"
   ]
  },
  {
   "cell_type": "code",
   "execution_count": 215,
   "id": "310df05d",
   "metadata": {},
   "outputs": [
    {
     "data": {
      "text/html": [
       "<style>#sk-container-id-4 {color: black;background-color: white;}#sk-container-id-4 pre{padding: 0;}#sk-container-id-4 div.sk-toggleable {background-color: white;}#sk-container-id-4 label.sk-toggleable__label {cursor: pointer;display: block;width: 100%;margin-bottom: 0;padding: 0.3em;box-sizing: border-box;text-align: center;}#sk-container-id-4 label.sk-toggleable__label-arrow:before {content: \"▸\";float: left;margin-right: 0.25em;color: #696969;}#sk-container-id-4 label.sk-toggleable__label-arrow:hover:before {color: black;}#sk-container-id-4 div.sk-estimator:hover label.sk-toggleable__label-arrow:before {color: black;}#sk-container-id-4 div.sk-toggleable__content {max-height: 0;max-width: 0;overflow: hidden;text-align: left;background-color: #f0f8ff;}#sk-container-id-4 div.sk-toggleable__content pre {margin: 0.2em;color: black;border-radius: 0.25em;background-color: #f0f8ff;}#sk-container-id-4 input.sk-toggleable__control:checked~div.sk-toggleable__content {max-height: 200px;max-width: 100%;overflow: auto;}#sk-container-id-4 input.sk-toggleable__control:checked~label.sk-toggleable__label-arrow:before {content: \"▾\";}#sk-container-id-4 div.sk-estimator input.sk-toggleable__control:checked~label.sk-toggleable__label {background-color: #d4ebff;}#sk-container-id-4 div.sk-label input.sk-toggleable__control:checked~label.sk-toggleable__label {background-color: #d4ebff;}#sk-container-id-4 input.sk-hidden--visually {border: 0;clip: rect(1px 1px 1px 1px);clip: rect(1px, 1px, 1px, 1px);height: 1px;margin: -1px;overflow: hidden;padding: 0;position: absolute;width: 1px;}#sk-container-id-4 div.sk-estimator {font-family: monospace;background-color: #f0f8ff;border: 1px dotted black;border-radius: 0.25em;box-sizing: border-box;margin-bottom: 0.5em;}#sk-container-id-4 div.sk-estimator:hover {background-color: #d4ebff;}#sk-container-id-4 div.sk-parallel-item::after {content: \"\";width: 100%;border-bottom: 1px solid gray;flex-grow: 1;}#sk-container-id-4 div.sk-label:hover label.sk-toggleable__label {background-color: #d4ebff;}#sk-container-id-4 div.sk-serial::before {content: \"\";position: absolute;border-left: 1px solid gray;box-sizing: border-box;top: 0;bottom: 0;left: 50%;z-index: 0;}#sk-container-id-4 div.sk-serial {display: flex;flex-direction: column;align-items: center;background-color: white;padding-right: 0.2em;padding-left: 0.2em;position: relative;}#sk-container-id-4 div.sk-item {position: relative;z-index: 1;}#sk-container-id-4 div.sk-parallel {display: flex;align-items: stretch;justify-content: center;background-color: white;position: relative;}#sk-container-id-4 div.sk-item::before, #sk-container-id-4 div.sk-parallel-item::before {content: \"\";position: absolute;border-left: 1px solid gray;box-sizing: border-box;top: 0;bottom: 0;left: 50%;z-index: -1;}#sk-container-id-4 div.sk-parallel-item {display: flex;flex-direction: column;z-index: 1;position: relative;background-color: white;}#sk-container-id-4 div.sk-parallel-item:first-child::after {align-self: flex-end;width: 50%;}#sk-container-id-4 div.sk-parallel-item:last-child::after {align-self: flex-start;width: 50%;}#sk-container-id-4 div.sk-parallel-item:only-child::after {width: 0;}#sk-container-id-4 div.sk-dashed-wrapped {border: 1px dashed gray;margin: 0 0.4em 0.5em 0.4em;box-sizing: border-box;padding-bottom: 0.4em;background-color: white;}#sk-container-id-4 div.sk-label label {font-family: monospace;font-weight: bold;display: inline-block;line-height: 1.2em;}#sk-container-id-4 div.sk-label-container {text-align: center;}#sk-container-id-4 div.sk-container {/* jupyter's `normalize.less` sets `[hidden] { display: none; }` but bootstrap.min.css set `[hidden] { display: none !important; }` so we also need the `!important` here to be able to override the default hidden behavior on the sphinx rendered scikit-learn.org. See: https://github.com/scikit-learn/scikit-learn/issues/21755 */display: inline-block !important;position: relative;}#sk-container-id-4 div.sk-text-repr-fallback {display: none;}</style><div id=\"sk-container-id-4\" class=\"sk-top-container\"><div class=\"sk-text-repr-fallback\"><pre>Pipeline(steps=[(&#x27;columntransformer&#x27;,\n",
       "                 ColumnTransformer(transformers=[(&#x27;ohe&#x27;,\n",
       "                                                  OneHotEncoder(sparse_output=False),\n",
       "                                                  [&#x27;City&#x27;, &#x27;MatchNumber&#x27;,\n",
       "                                                   &#x27;Team1&#x27;, &#x27;Team2&#x27;, &#x27;Venue&#x27;,\n",
       "                                                   &#x27;TossWinner&#x27;,\n",
       "                                                   &#x27;TossDecision&#x27;])])),\n",
       "                (&#x27;decisiontreeclassifier&#x27;, DecisionTreeClassifier())])</pre><b>In a Jupyter environment, please rerun this cell to show the HTML representation or trust the notebook. <br />On GitHub, the HTML representation is unable to render, please try loading this page with nbviewer.org.</b></div><div class=\"sk-container\" hidden><div class=\"sk-item sk-dashed-wrapped\"><div class=\"sk-label-container\"><div class=\"sk-label sk-toggleable\"><input class=\"sk-toggleable__control sk-hidden--visually\" id=\"sk-estimator-id-16\" type=\"checkbox\" ><label for=\"sk-estimator-id-16\" class=\"sk-toggleable__label sk-toggleable__label-arrow\">Pipeline</label><div class=\"sk-toggleable__content\"><pre>Pipeline(steps=[(&#x27;columntransformer&#x27;,\n",
       "                 ColumnTransformer(transformers=[(&#x27;ohe&#x27;,\n",
       "                                                  OneHotEncoder(sparse_output=False),\n",
       "                                                  [&#x27;City&#x27;, &#x27;MatchNumber&#x27;,\n",
       "                                                   &#x27;Team1&#x27;, &#x27;Team2&#x27;, &#x27;Venue&#x27;,\n",
       "                                                   &#x27;TossWinner&#x27;,\n",
       "                                                   &#x27;TossDecision&#x27;])])),\n",
       "                (&#x27;decisiontreeclassifier&#x27;, DecisionTreeClassifier())])</pre></div></div></div><div class=\"sk-serial\"><div class=\"sk-item sk-dashed-wrapped\"><div class=\"sk-label-container\"><div class=\"sk-label sk-toggleable\"><input class=\"sk-toggleable__control sk-hidden--visually\" id=\"sk-estimator-id-17\" type=\"checkbox\" ><label for=\"sk-estimator-id-17\" class=\"sk-toggleable__label sk-toggleable__label-arrow\">columntransformer: ColumnTransformer</label><div class=\"sk-toggleable__content\"><pre>ColumnTransformer(transformers=[(&#x27;ohe&#x27;, OneHotEncoder(sparse_output=False),\n",
       "                                 [&#x27;City&#x27;, &#x27;MatchNumber&#x27;, &#x27;Team1&#x27;, &#x27;Team2&#x27;,\n",
       "                                  &#x27;Venue&#x27;, &#x27;TossWinner&#x27;, &#x27;TossDecision&#x27;])])</pre></div></div></div><div class=\"sk-parallel\"><div class=\"sk-parallel-item\"><div class=\"sk-item\"><div class=\"sk-label-container\"><div class=\"sk-label sk-toggleable\"><input class=\"sk-toggleable__control sk-hidden--visually\" id=\"sk-estimator-id-18\" type=\"checkbox\" ><label for=\"sk-estimator-id-18\" class=\"sk-toggleable__label sk-toggleable__label-arrow\">ohe</label><div class=\"sk-toggleable__content\"><pre>[&#x27;City&#x27;, &#x27;MatchNumber&#x27;, &#x27;Team1&#x27;, &#x27;Team2&#x27;, &#x27;Venue&#x27;, &#x27;TossWinner&#x27;, &#x27;TossDecision&#x27;]</pre></div></div></div><div class=\"sk-serial\"><div class=\"sk-item\"><div class=\"sk-estimator sk-toggleable\"><input class=\"sk-toggleable__control sk-hidden--visually\" id=\"sk-estimator-id-19\" type=\"checkbox\" ><label for=\"sk-estimator-id-19\" class=\"sk-toggleable__label sk-toggleable__label-arrow\">OneHotEncoder</label><div class=\"sk-toggleable__content\"><pre>OneHotEncoder(sparse_output=False)</pre></div></div></div></div></div></div></div></div><div class=\"sk-item\"><div class=\"sk-estimator sk-toggleable\"><input class=\"sk-toggleable__control sk-hidden--visually\" id=\"sk-estimator-id-20\" type=\"checkbox\" ><label for=\"sk-estimator-id-20\" class=\"sk-toggleable__label sk-toggleable__label-arrow\">DecisionTreeClassifier</label><div class=\"sk-toggleable__content\"><pre>DecisionTreeClassifier()</pre></div></div></div></div></div></div></div>"
      ],
      "text/plain": [
       "Pipeline(steps=[('columntransformer',\n",
       "                 ColumnTransformer(transformers=[('ohe',\n",
       "                                                  OneHotEncoder(sparse_output=False),\n",
       "                                                  ['City', 'MatchNumber',\n",
       "                                                   'Team1', 'Team2', 'Venue',\n",
       "                                                   'TossWinner',\n",
       "                                                   'TossDecision'])])),\n",
       "                ('decisiontreeclassifier', DecisionTreeClassifier())])"
      ]
     },
     "execution_count": 215,
     "metadata": {},
     "output_type": "execute_result"
    }
   ],
   "source": [
    "pipe.fit(x_train,y_train)"
   ]
  },
  {
   "cell_type": "code",
   "execution_count": 216,
   "id": "7b725510",
   "metadata": {},
   "outputs": [
    {
     "data": {
      "text/html": [
       "<div>\n",
       "<style scoped>\n",
       "    .dataframe tbody tr th:only-of-type {\n",
       "        vertical-align: middle;\n",
       "    }\n",
       "\n",
       "    .dataframe tbody tr th {\n",
       "        vertical-align: top;\n",
       "    }\n",
       "\n",
       "    .dataframe thead th {\n",
       "        text-align: right;\n",
       "    }\n",
       "</style>\n",
       "<table border=\"1\" class=\"dataframe\">\n",
       "  <thead>\n",
       "    <tr style=\"text-align: right;\">\n",
       "      <th></th>\n",
       "      <th>City</th>\n",
       "      <th>MatchNumber</th>\n",
       "      <th>Team1</th>\n",
       "      <th>Team2</th>\n",
       "      <th>Venue</th>\n",
       "      <th>TossWinner</th>\n",
       "      <th>TossDecision</th>\n",
       "    </tr>\n",
       "  </thead>\n",
       "  <tbody>\n",
       "    <tr>\n",
       "      <th>607</th>\n",
       "      <td>Chandigarh</td>\n",
       "      <td>Normal</td>\n",
       "      <td>Kings XI Punjab</td>\n",
       "      <td>Kolkata Knight Riders</td>\n",
       "      <td>Punjab Cricket Association Stadium, Mohali</td>\n",
       "      <td>Kolkata Knight Riders</td>\n",
       "      <td>field</td>\n",
       "    </tr>\n",
       "    <tr>\n",
       "      <th>710</th>\n",
       "      <td>Mumbai</td>\n",
       "      <td>Normal</td>\n",
       "      <td>Mumbai Indians</td>\n",
       "      <td>Rajasthan Royals</td>\n",
       "      <td>Wankhede Stadium</td>\n",
       "      <td>Mumbai Indians</td>\n",
       "      <td>bat</td>\n",
       "    </tr>\n",
       "    <tr>\n",
       "      <th>300</th>\n",
       "      <td>Mumbai</td>\n",
       "      <td>Normal</td>\n",
       "      <td>Mumbai Indians</td>\n",
       "      <td>Royal Challengers Bangalore</td>\n",
       "      <td>Wankhede Stadium</td>\n",
       "      <td>Royal Challengers Bangalore</td>\n",
       "      <td>field</td>\n",
       "    </tr>\n",
       "    <tr>\n",
       "      <th>146</th>\n",
       "      <td>Abu Dhabi</td>\n",
       "      <td>Normal</td>\n",
       "      <td>Royal Challengers Bangalore</td>\n",
       "      <td>Mumbai Indians</td>\n",
       "      <td>Sheikh Zayed Stadium</td>\n",
       "      <td>Mumbai Indians</td>\n",
       "      <td>field</td>\n",
       "    </tr>\n",
       "    <tr>\n",
       "      <th>170</th>\n",
       "      <td>1-No Matter</td>\n",
       "      <td>Normal</td>\n",
       "      <td>Royal Challengers Bangalore</td>\n",
       "      <td>Chennai Super Kings</td>\n",
       "      <td>Dubai International Cricket Stadium</td>\n",
       "      <td>Royal Challengers Bangalore</td>\n",
       "      <td>bat</td>\n",
       "    </tr>\n",
       "    <tr>\n",
       "      <th>...</th>\n",
       "      <td>...</td>\n",
       "      <td>...</td>\n",
       "      <td>...</td>\n",
       "      <td>...</td>\n",
       "      <td>...</td>\n",
       "      <td>...</td>\n",
       "      <td>...</td>\n",
       "    </tr>\n",
       "    <tr>\n",
       "      <th>327</th>\n",
       "      <td>Bangalore</td>\n",
       "      <td>Normal</td>\n",
       "      <td>Royal Challengers Bangalore</td>\n",
       "      <td>Kolkata Knight Riders</td>\n",
       "      <td>M Chinnaswamy Stadium</td>\n",
       "      <td>Kolkata Knight Riders</td>\n",
       "      <td>field</td>\n",
       "    </tr>\n",
       "    <tr>\n",
       "      <th>11</th>\n",
       "      <td>Mumbai</td>\n",
       "      <td>Normal</td>\n",
       "      <td>Rajasthan Royals</td>\n",
       "      <td>Lucknow Super Giants</td>\n",
       "      <td>Brabourne Stadium, Mumbai</td>\n",
       "      <td>Rajasthan Royals</td>\n",
       "      <td>bat</td>\n",
       "    </tr>\n",
       "    <tr>\n",
       "      <th>493</th>\n",
       "      <td>Mumbai</td>\n",
       "      <td>Qualifier</td>\n",
       "      <td>Chennai Super Kings</td>\n",
       "      <td>Kings XI Punjab</td>\n",
       "      <td>Wankhede Stadium</td>\n",
       "      <td>Chennai Super Kings</td>\n",
       "      <td>field</td>\n",
       "    </tr>\n",
       "    <tr>\n",
       "      <th>221</th>\n",
       "      <td>Hyderabad</td>\n",
       "      <td>Normal</td>\n",
       "      <td>Chennai Super Kings</td>\n",
       "      <td>Sunrisers Hyderabad</td>\n",
       "      <td>Rajiv Gandhi International Stadium</td>\n",
       "      <td>Chennai Super Kings</td>\n",
       "      <td>bat</td>\n",
       "    </tr>\n",
       "    <tr>\n",
       "      <th>874</th>\n",
       "      <td>Durban</td>\n",
       "      <td>Normal</td>\n",
       "      <td>Kings XI Punjab</td>\n",
       "      <td>Mumbai Indians</td>\n",
       "      <td>Kingsmead</td>\n",
       "      <td>Kings XI Punjab</td>\n",
       "      <td>bat</td>\n",
       "    </tr>\n",
       "  </tbody>\n",
       "</table>\n",
       "<p>480 rows × 7 columns</p>\n",
       "</div>"
      ],
      "text/plain": [
       "            City MatchNumber                        Team1  \\\n",
       "607   Chandigarh      Normal              Kings XI Punjab   \n",
       "710       Mumbai      Normal               Mumbai Indians   \n",
       "300       Mumbai      Normal               Mumbai Indians   \n",
       "146    Abu Dhabi      Normal  Royal Challengers Bangalore   \n",
       "170  1-No Matter      Normal  Royal Challengers Bangalore   \n",
       "..           ...         ...                          ...   \n",
       "327    Bangalore      Normal  Royal Challengers Bangalore   \n",
       "11        Mumbai      Normal             Rajasthan Royals   \n",
       "493       Mumbai   Qualifier          Chennai Super Kings   \n",
       "221    Hyderabad      Normal          Chennai Super Kings   \n",
       "874       Durban      Normal              Kings XI Punjab   \n",
       "\n",
       "                           Team2                                       Venue  \\\n",
       "607        Kolkata Knight Riders  Punjab Cricket Association Stadium, Mohali   \n",
       "710             Rajasthan Royals                            Wankhede Stadium   \n",
       "300  Royal Challengers Bangalore                            Wankhede Stadium   \n",
       "146               Mumbai Indians                        Sheikh Zayed Stadium   \n",
       "170          Chennai Super Kings         Dubai International Cricket Stadium   \n",
       "..                           ...                                         ...   \n",
       "327        Kolkata Knight Riders                       M Chinnaswamy Stadium   \n",
       "11          Lucknow Super Giants                   Brabourne Stadium, Mumbai   \n",
       "493              Kings XI Punjab                            Wankhede Stadium   \n",
       "221          Sunrisers Hyderabad          Rajiv Gandhi International Stadium   \n",
       "874               Mumbai Indians                                   Kingsmead   \n",
       "\n",
       "                      TossWinner TossDecision  \n",
       "607        Kolkata Knight Riders        field  \n",
       "710               Mumbai Indians          bat  \n",
       "300  Royal Challengers Bangalore        field  \n",
       "146               Mumbai Indians        field  \n",
       "170  Royal Challengers Bangalore          bat  \n",
       "..                           ...          ...  \n",
       "327        Kolkata Knight Riders        field  \n",
       "11              Rajasthan Royals          bat  \n",
       "493          Chennai Super Kings        field  \n",
       "221          Chennai Super Kings          bat  \n",
       "874              Kings XI Punjab          bat  \n",
       "\n",
       "[480 rows x 7 columns]"
      ]
     },
     "execution_count": 216,
     "metadata": {},
     "output_type": "execute_result"
    }
   ],
   "source": [
    "x_train"
   ]
  },
  {
   "cell_type": "code",
   "execution_count": 217,
   "id": "eafd6887",
   "metadata": {},
   "outputs": [],
   "source": [
    "# sorted(x_train.MatchNumber.unique())"
   ]
  },
  {
   "cell_type": "code",
   "execution_count": 218,
   "id": "b46fdc3f",
   "metadata": {},
   "outputs": [],
   "source": [
    "# x_test = x_test[x_test.MatchNumber!=\"57\"]"
   ]
  },
  {
   "cell_type": "code",
   "execution_count": 219,
   "id": "10930abe",
   "metadata": {},
   "outputs": [],
   "source": [
    "# x_test = x_test[x_test.MatchNumber!=\"67\"]"
   ]
  },
  {
   "cell_type": "code",
   "execution_count": 220,
   "id": "4dd17ba3",
   "metadata": {},
   "outputs": [],
   "source": [
    "y_predicted = pipe.predict(x_test)"
   ]
  },
  {
   "cell_type": "code",
   "execution_count": 221,
   "id": "c25d3ec4",
   "metadata": {},
   "outputs": [],
   "source": [
    "y_pred = []\n",
    "for i in y_predicted:\n",
    "    if i>0.5:\n",
    "        y_pred.append(1)\n",
    "    else:\n",
    "        y_pred.append(0)"
   ]
  },
  {
   "cell_type": "code",
   "execution_count": 222,
   "id": "ece05a12",
   "metadata": {},
   "outputs": [],
   "source": [
    "y_predic = np.array(y_pred)"
   ]
  },
  {
   "cell_type": "code",
   "execution_count": 223,
   "id": "613c1527",
   "metadata": {},
   "outputs": [
    {
     "data": {
      "text/plain": [
       "array([0, 0, 0, 1, 1, 1, 0, 0, 1, 1])"
      ]
     },
     "execution_count": 223,
     "metadata": {},
     "output_type": "execute_result"
    }
   ],
   "source": [
    "y_test[:10]"
   ]
  },
  {
   "cell_type": "code",
   "execution_count": 226,
   "id": "50d59615",
   "metadata": {},
   "outputs": [
    {
     "data": {
      "text/plain": [
       "[1, 1, 1, 0, 0, 0, 0, 1, 0, 0]"
      ]
     },
     "execution_count": 226,
     "metadata": {},
     "output_type": "execute_result"
    }
   ],
   "source": [
    "y_pred[:10]"
   ]
  },
  {
   "cell_type": "code",
   "execution_count": 224,
   "id": "ff1db2cb",
   "metadata": {},
   "outputs": [],
   "source": [
    "from sklearn.metrics import r2_score"
   ]
  },
  {
   "cell_type": "code",
   "execution_count": 225,
   "id": "0e8a73df",
   "metadata": {},
   "outputs": [
    {
     "data": {
      "text/plain": [
       "-0.8282967032967035"
      ]
     },
     "execution_count": 225,
     "metadata": {},
     "output_type": "execute_result"
    }
   ],
   "source": [
    "r2_score(y_test,y_predicted)"
   ]
  },
  {
   "cell_type": "code",
   "execution_count": null,
   "id": "b7710b65",
   "metadata": {},
   "outputs": [],
   "source": []
  },
  {
   "cell_type": "code",
   "execution_count": null,
   "id": "c44fefc7",
   "metadata": {},
   "outputs": [],
   "source": []
  }
 ],
 "metadata": {
  "kernelspec": {
   "display_name": "Python 3 (ipykernel)",
   "language": "python",
   "name": "python3"
  },
  "language_info": {
   "codemirror_mode": {
    "name": "ipython",
    "version": 3
   },
   "file_extension": ".py",
   "mimetype": "text/x-python",
   "name": "python",
   "nbconvert_exporter": "python",
   "pygments_lexer": "ipython3",
   "version": "3.10.9"
  }
 },
 "nbformat": 4,
 "nbformat_minor": 5
}
